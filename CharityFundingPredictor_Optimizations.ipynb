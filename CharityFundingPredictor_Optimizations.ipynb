{
  "cells": [
    {
      "cell_type": "markdown",
      "metadata": {
        "id": "bysdh1qK7AfF"
      },
      "source": [
        "## Preprocessing"
      ]
    },
    {
      "cell_type": "code",
      "execution_count": null,
      "metadata": {
        "colab": {
          "base_uri": "https://localhost:8080/",
          "height": 451
        },
        "id": "0_4FjnQ_7AfG",
        "outputId": "343fbd42-141a-49e1-c0e4-3a6ed271b22c"
      },
      "outputs": [
        {
          "output_type": "execute_result",
          "data": {
            "text/plain": [
              "        EIN                                      NAME APPLICATION_TYPE  \\\n",
              "0  10520599              BLUE KNIGHTS MOTORCYCLE CLUB              T10   \n",
              "1  10531628    AMERICAN CHESAPEAKE CLUB CHARITABLE TR               T3   \n",
              "2  10547893        ST CLOUD PROFESSIONAL FIREFIGHTERS               T5   \n",
              "3  10553066            SOUTHSIDE ATHLETIC ASSOCIATION               T3   \n",
              "4  10556103  GENETIC RESEARCH INSTITUTE OF THE DESERT               T3   \n",
              "\n",
              "        AFFILIATION CLASSIFICATION      USE_CASE  ORGANIZATION  STATUS  \\\n",
              "0       Independent          C1000    ProductDev   Association       1   \n",
              "1       Independent          C2000  Preservation  Co-operative       1   \n",
              "2  CompanySponsored          C3000    ProductDev   Association       1   \n",
              "3  CompanySponsored          C2000  Preservation         Trust       1   \n",
              "4       Independent          C1000     Heathcare         Trust       1   \n",
              "\n",
              "      INCOME_AMT SPECIAL_CONSIDERATIONS  ASK_AMT  IS_SUCCESSFUL  \n",
              "0              0                      N     5000              1  \n",
              "1         1-9999                      N   108590              1  \n",
              "2              0                      N     5000              0  \n",
              "3    10000-24999                      N     6692              1  \n",
              "4  100000-499999                      N   142590              1  "
            ],
            "text/html": [
              "\n",
              "  <div id=\"df-736aa07e-3cf5-4ce5-9170-f1beb211eb33\" class=\"colab-df-container\">\n",
              "    <div>\n",
              "<style scoped>\n",
              "    .dataframe tbody tr th:only-of-type {\n",
              "        vertical-align: middle;\n",
              "    }\n",
              "\n",
              "    .dataframe tbody tr th {\n",
              "        vertical-align: top;\n",
              "    }\n",
              "\n",
              "    .dataframe thead th {\n",
              "        text-align: right;\n",
              "    }\n",
              "</style>\n",
              "<table border=\"1\" class=\"dataframe\">\n",
              "  <thead>\n",
              "    <tr style=\"text-align: right;\">\n",
              "      <th></th>\n",
              "      <th>EIN</th>\n",
              "      <th>NAME</th>\n",
              "      <th>APPLICATION_TYPE</th>\n",
              "      <th>AFFILIATION</th>\n",
              "      <th>CLASSIFICATION</th>\n",
              "      <th>USE_CASE</th>\n",
              "      <th>ORGANIZATION</th>\n",
              "      <th>STATUS</th>\n",
              "      <th>INCOME_AMT</th>\n",
              "      <th>SPECIAL_CONSIDERATIONS</th>\n",
              "      <th>ASK_AMT</th>\n",
              "      <th>IS_SUCCESSFUL</th>\n",
              "    </tr>\n",
              "  </thead>\n",
              "  <tbody>\n",
              "    <tr>\n",
              "      <th>0</th>\n",
              "      <td>10520599</td>\n",
              "      <td>BLUE KNIGHTS MOTORCYCLE CLUB</td>\n",
              "      <td>T10</td>\n",
              "      <td>Independent</td>\n",
              "      <td>C1000</td>\n",
              "      <td>ProductDev</td>\n",
              "      <td>Association</td>\n",
              "      <td>1</td>\n",
              "      <td>0</td>\n",
              "      <td>N</td>\n",
              "      <td>5000</td>\n",
              "      <td>1</td>\n",
              "    </tr>\n",
              "    <tr>\n",
              "      <th>1</th>\n",
              "      <td>10531628</td>\n",
              "      <td>AMERICAN CHESAPEAKE CLUB CHARITABLE TR</td>\n",
              "      <td>T3</td>\n",
              "      <td>Independent</td>\n",
              "      <td>C2000</td>\n",
              "      <td>Preservation</td>\n",
              "      <td>Co-operative</td>\n",
              "      <td>1</td>\n",
              "      <td>1-9999</td>\n",
              "      <td>N</td>\n",
              "      <td>108590</td>\n",
              "      <td>1</td>\n",
              "    </tr>\n",
              "    <tr>\n",
              "      <th>2</th>\n",
              "      <td>10547893</td>\n",
              "      <td>ST CLOUD PROFESSIONAL FIREFIGHTERS</td>\n",
              "      <td>T5</td>\n",
              "      <td>CompanySponsored</td>\n",
              "      <td>C3000</td>\n",
              "      <td>ProductDev</td>\n",
              "      <td>Association</td>\n",
              "      <td>1</td>\n",
              "      <td>0</td>\n",
              "      <td>N</td>\n",
              "      <td>5000</td>\n",
              "      <td>0</td>\n",
              "    </tr>\n",
              "    <tr>\n",
              "      <th>3</th>\n",
              "      <td>10553066</td>\n",
              "      <td>SOUTHSIDE ATHLETIC ASSOCIATION</td>\n",
              "      <td>T3</td>\n",
              "      <td>CompanySponsored</td>\n",
              "      <td>C2000</td>\n",
              "      <td>Preservation</td>\n",
              "      <td>Trust</td>\n",
              "      <td>1</td>\n",
              "      <td>10000-24999</td>\n",
              "      <td>N</td>\n",
              "      <td>6692</td>\n",
              "      <td>1</td>\n",
              "    </tr>\n",
              "    <tr>\n",
              "      <th>4</th>\n",
              "      <td>10556103</td>\n",
              "      <td>GENETIC RESEARCH INSTITUTE OF THE DESERT</td>\n",
              "      <td>T3</td>\n",
              "      <td>Independent</td>\n",
              "      <td>C1000</td>\n",
              "      <td>Heathcare</td>\n",
              "      <td>Trust</td>\n",
              "      <td>1</td>\n",
              "      <td>100000-499999</td>\n",
              "      <td>N</td>\n",
              "      <td>142590</td>\n",
              "      <td>1</td>\n",
              "    </tr>\n",
              "  </tbody>\n",
              "</table>\n",
              "</div>\n",
              "    <div class=\"colab-df-buttons\">\n",
              "\n",
              "  <div class=\"colab-df-container\">\n",
              "    <button class=\"colab-df-convert\" onclick=\"convertToInteractive('df-736aa07e-3cf5-4ce5-9170-f1beb211eb33')\"\n",
              "            title=\"Convert this dataframe to an interactive table.\"\n",
              "            style=\"display:none;\">\n",
              "\n",
              "  <svg xmlns=\"http://www.w3.org/2000/svg\" height=\"24px\" viewBox=\"0 -960 960 960\">\n",
              "    <path d=\"M120-120v-720h720v720H120Zm60-500h600v-160H180v160Zm220 220h160v-160H400v160Zm0 220h160v-160H400v160ZM180-400h160v-160H180v160Zm440 0h160v-160H620v160ZM180-180h160v-160H180v160Zm440 0h160v-160H620v160Z\"/>\n",
              "  </svg>\n",
              "    </button>\n",
              "\n",
              "  <style>\n",
              "    .colab-df-container {\n",
              "      display:flex;\n",
              "      gap: 12px;\n",
              "    }\n",
              "\n",
              "    .colab-df-convert {\n",
              "      background-color: #E8F0FE;\n",
              "      border: none;\n",
              "      border-radius: 50%;\n",
              "      cursor: pointer;\n",
              "      display: none;\n",
              "      fill: #1967D2;\n",
              "      height: 32px;\n",
              "      padding: 0 0 0 0;\n",
              "      width: 32px;\n",
              "    }\n",
              "\n",
              "    .colab-df-convert:hover {\n",
              "      background-color: #E2EBFA;\n",
              "      box-shadow: 0px 1px 2px rgba(60, 64, 67, 0.3), 0px 1px 3px 1px rgba(60, 64, 67, 0.15);\n",
              "      fill: #174EA6;\n",
              "    }\n",
              "\n",
              "    .colab-df-buttons div {\n",
              "      margin-bottom: 4px;\n",
              "    }\n",
              "\n",
              "    [theme=dark] .colab-df-convert {\n",
              "      background-color: #3B4455;\n",
              "      fill: #D2E3FC;\n",
              "    }\n",
              "\n",
              "    [theme=dark] .colab-df-convert:hover {\n",
              "      background-color: #434B5C;\n",
              "      box-shadow: 0px 1px 3px 1px rgba(0, 0, 0, 0.15);\n",
              "      filter: drop-shadow(0px 1px 2px rgba(0, 0, 0, 0.3));\n",
              "      fill: #FFFFFF;\n",
              "    }\n",
              "  </style>\n",
              "\n",
              "    <script>\n",
              "      const buttonEl =\n",
              "        document.querySelector('#df-736aa07e-3cf5-4ce5-9170-f1beb211eb33 button.colab-df-convert');\n",
              "      buttonEl.style.display =\n",
              "        google.colab.kernel.accessAllowed ? 'block' : 'none';\n",
              "\n",
              "      async function convertToInteractive(key) {\n",
              "        const element = document.querySelector('#df-736aa07e-3cf5-4ce5-9170-f1beb211eb33');\n",
              "        const dataTable =\n",
              "          await google.colab.kernel.invokeFunction('convertToInteractive',\n",
              "                                                    [key], {});\n",
              "        if (!dataTable) return;\n",
              "\n",
              "        const docLinkHtml = 'Like what you see? Visit the ' +\n",
              "          '<a target=\"_blank\" href=https://colab.research.google.com/notebooks/data_table.ipynb>data table notebook</a>'\n",
              "          + ' to learn more about interactive tables.';\n",
              "        element.innerHTML = '';\n",
              "        dataTable['output_type'] = 'display_data';\n",
              "        await google.colab.output.renderOutput(dataTable, element);\n",
              "        const docLink = document.createElement('div');\n",
              "        docLink.innerHTML = docLinkHtml;\n",
              "        element.appendChild(docLink);\n",
              "      }\n",
              "    </script>\n",
              "  </div>\n",
              "\n",
              "\n",
              "<div id=\"df-6db71772-94ed-4d1e-a5e1-7ea52592b71e\">\n",
              "  <button class=\"colab-df-quickchart\" onclick=\"quickchart('df-6db71772-94ed-4d1e-a5e1-7ea52592b71e')\"\n",
              "            title=\"Suggest charts\"\n",
              "            style=\"display:none;\">\n",
              "\n",
              "<svg xmlns=\"http://www.w3.org/2000/svg\" height=\"24px\"viewBox=\"0 0 24 24\"\n",
              "     width=\"24px\">\n",
              "    <g>\n",
              "        <path d=\"M19 3H5c-1.1 0-2 .9-2 2v14c0 1.1.9 2 2 2h14c1.1 0 2-.9 2-2V5c0-1.1-.9-2-2-2zM9 17H7v-7h2v7zm4 0h-2V7h2v10zm4 0h-2v-4h2v4z\"/>\n",
              "    </g>\n",
              "</svg>\n",
              "  </button>\n",
              "\n",
              "<style>\n",
              "  .colab-df-quickchart {\n",
              "      --bg-color: #E8F0FE;\n",
              "      --fill-color: #1967D2;\n",
              "      --hover-bg-color: #E2EBFA;\n",
              "      --hover-fill-color: #174EA6;\n",
              "      --disabled-fill-color: #AAA;\n",
              "      --disabled-bg-color: #DDD;\n",
              "  }\n",
              "\n",
              "  [theme=dark] .colab-df-quickchart {\n",
              "      --bg-color: #3B4455;\n",
              "      --fill-color: #D2E3FC;\n",
              "      --hover-bg-color: #434B5C;\n",
              "      --hover-fill-color: #FFFFFF;\n",
              "      --disabled-bg-color: #3B4455;\n",
              "      --disabled-fill-color: #666;\n",
              "  }\n",
              "\n",
              "  .colab-df-quickchart {\n",
              "    background-color: var(--bg-color);\n",
              "    border: none;\n",
              "    border-radius: 50%;\n",
              "    cursor: pointer;\n",
              "    display: none;\n",
              "    fill: var(--fill-color);\n",
              "    height: 32px;\n",
              "    padding: 0;\n",
              "    width: 32px;\n",
              "  }\n",
              "\n",
              "  .colab-df-quickchart:hover {\n",
              "    background-color: var(--hover-bg-color);\n",
              "    box-shadow: 0 1px 2px rgba(60, 64, 67, 0.3), 0 1px 3px 1px rgba(60, 64, 67, 0.15);\n",
              "    fill: var(--button-hover-fill-color);\n",
              "  }\n",
              "\n",
              "  .colab-df-quickchart-complete:disabled,\n",
              "  .colab-df-quickchart-complete:disabled:hover {\n",
              "    background-color: var(--disabled-bg-color);\n",
              "    fill: var(--disabled-fill-color);\n",
              "    box-shadow: none;\n",
              "  }\n",
              "\n",
              "  .colab-df-spinner {\n",
              "    border: 2px solid var(--fill-color);\n",
              "    border-color: transparent;\n",
              "    border-bottom-color: var(--fill-color);\n",
              "    animation:\n",
              "      spin 1s steps(1) infinite;\n",
              "  }\n",
              "\n",
              "  @keyframes spin {\n",
              "    0% {\n",
              "      border-color: transparent;\n",
              "      border-bottom-color: var(--fill-color);\n",
              "      border-left-color: var(--fill-color);\n",
              "    }\n",
              "    20% {\n",
              "      border-color: transparent;\n",
              "      border-left-color: var(--fill-color);\n",
              "      border-top-color: var(--fill-color);\n",
              "    }\n",
              "    30% {\n",
              "      border-color: transparent;\n",
              "      border-left-color: var(--fill-color);\n",
              "      border-top-color: var(--fill-color);\n",
              "      border-right-color: var(--fill-color);\n",
              "    }\n",
              "    40% {\n",
              "      border-color: transparent;\n",
              "      border-right-color: var(--fill-color);\n",
              "      border-top-color: var(--fill-color);\n",
              "    }\n",
              "    60% {\n",
              "      border-color: transparent;\n",
              "      border-right-color: var(--fill-color);\n",
              "    }\n",
              "    80% {\n",
              "      border-color: transparent;\n",
              "      border-right-color: var(--fill-color);\n",
              "      border-bottom-color: var(--fill-color);\n",
              "    }\n",
              "    90% {\n",
              "      border-color: transparent;\n",
              "      border-bottom-color: var(--fill-color);\n",
              "    }\n",
              "  }\n",
              "</style>\n",
              "\n",
              "  <script>\n",
              "    async function quickchart(key) {\n",
              "      const quickchartButtonEl =\n",
              "        document.querySelector('#' + key + ' button');\n",
              "      quickchartButtonEl.disabled = true;  // To prevent multiple clicks.\n",
              "      quickchartButtonEl.classList.add('colab-df-spinner');\n",
              "      try {\n",
              "        const charts = await google.colab.kernel.invokeFunction(\n",
              "            'suggestCharts', [key], {});\n",
              "      } catch (error) {\n",
              "        console.error('Error during call to suggestCharts:', error);\n",
              "      }\n",
              "      quickchartButtonEl.classList.remove('colab-df-spinner');\n",
              "      quickchartButtonEl.classList.add('colab-df-quickchart-complete');\n",
              "    }\n",
              "    (() => {\n",
              "      let quickchartButtonEl =\n",
              "        document.querySelector('#df-6db71772-94ed-4d1e-a5e1-7ea52592b71e button');\n",
              "      quickchartButtonEl.style.display =\n",
              "        google.colab.kernel.accessAllowed ? 'block' : 'none';\n",
              "    })();\n",
              "  </script>\n",
              "</div>\n",
              "\n",
              "    </div>\n",
              "  </div>\n"
            ],
            "application/vnd.google.colaboratory.intrinsic+json": {
              "type": "dataframe",
              "variable_name": "application_df",
              "summary": "{\n  \"name\": \"application_df\",\n  \"rows\": 34299,\n  \"fields\": [\n    {\n      \"column\": \"EIN\",\n      \"properties\": {\n        \"dtype\": \"number\",\n        \"std\": 245147183,\n        \"min\": 10520599,\n        \"max\": 996086871,\n        \"num_unique_values\": 34299,\n        \"samples\": [\n          271598055,\n          900109768,\n          352562499\n        ],\n        \"semantic_type\": \"\",\n        \"description\": \"\"\n      }\n    },\n    {\n      \"column\": \"NAME\",\n      \"properties\": {\n        \"dtype\": \"string\",\n        \"num_unique_values\": 19568,\n        \"samples\": [\n          \"LOCAL 12 USW GOODYEAR INSTITUTE FORCAREER DEVELOPMENT\",\n          \"INTERNATION ASSOCIATION OF ELECTRICAL INSPECTORS\",\n          \"BRICKLAYERS & ALLIED CRAFTWORKERS LOCAL 13 VACATION FUND\"\n        ],\n        \"semantic_type\": \"\",\n        \"description\": \"\"\n      }\n    },\n    {\n      \"column\": \"APPLICATION_TYPE\",\n      \"properties\": {\n        \"dtype\": \"category\",\n        \"num_unique_values\": 17,\n        \"samples\": [\n          \"T10\",\n          \"T3\",\n          \"T6\"\n        ],\n        \"semantic_type\": \"\",\n        \"description\": \"\"\n      }\n    },\n    {\n      \"column\": \"AFFILIATION\",\n      \"properties\": {\n        \"dtype\": \"category\",\n        \"num_unique_values\": 6,\n        \"samples\": [\n          \"Independent\",\n          \"CompanySponsored\",\n          \"Other\"\n        ],\n        \"semantic_type\": \"\",\n        \"description\": \"\"\n      }\n    },\n    {\n      \"column\": \"CLASSIFICATION\",\n      \"properties\": {\n        \"dtype\": \"category\",\n        \"num_unique_values\": 71,\n        \"samples\": [\n          \"C1500\",\n          \"C1000\",\n          \"C1570\"\n        ],\n        \"semantic_type\": \"\",\n        \"description\": \"\"\n      }\n    },\n    {\n      \"column\": \"USE_CASE\",\n      \"properties\": {\n        \"dtype\": \"category\",\n        \"num_unique_values\": 5,\n        \"samples\": [\n          \"Preservation\",\n          \"Other\",\n          \"Heathcare\"\n        ],\n        \"semantic_type\": \"\",\n        \"description\": \"\"\n      }\n    },\n    {\n      \"column\": \"ORGANIZATION\",\n      \"properties\": {\n        \"dtype\": \"category\",\n        \"num_unique_values\": 4,\n        \"samples\": [\n          \"Co-operative\",\n          \"Corporation\",\n          \"Association\"\n        ],\n        \"semantic_type\": \"\",\n        \"description\": \"\"\n      }\n    },\n    {\n      \"column\": \"STATUS\",\n      \"properties\": {\n        \"dtype\": \"number\",\n        \"std\": 0,\n        \"min\": 0,\n        \"max\": 1,\n        \"num_unique_values\": 2,\n        \"samples\": [\n          0,\n          1\n        ],\n        \"semantic_type\": \"\",\n        \"description\": \"\"\n      }\n    },\n    {\n      \"column\": \"INCOME_AMT\",\n      \"properties\": {\n        \"dtype\": \"category\",\n        \"num_unique_values\": 9,\n        \"samples\": [\n          \"1M-5M\",\n          \"1-9999\"\n        ],\n        \"semantic_type\": \"\",\n        \"description\": \"\"\n      }\n    },\n    {\n      \"column\": \"SPECIAL_CONSIDERATIONS\",\n      \"properties\": {\n        \"dtype\": \"category\",\n        \"num_unique_values\": 2,\n        \"samples\": [\n          \"Y\",\n          \"N\"\n        ],\n        \"semantic_type\": \"\",\n        \"description\": \"\"\n      }\n    },\n    {\n      \"column\": \"ASK_AMT\",\n      \"properties\": {\n        \"dtype\": \"number\",\n        \"std\": 87130452,\n        \"min\": 5000,\n        \"max\": 8597806340,\n        \"num_unique_values\": 8747,\n        \"samples\": [\n          1328927,\n          42942\n        ],\n        \"semantic_type\": \"\",\n        \"description\": \"\"\n      }\n    },\n    {\n      \"column\": \"IS_SUCCESSFUL\",\n      \"properties\": {\n        \"dtype\": \"number\",\n        \"std\": 0,\n        \"min\": 0,\n        \"max\": 1,\n        \"num_unique_values\": 2,\n        \"samples\": [\n          0,\n          1\n        ],\n        \"semantic_type\": \"\",\n        \"description\": \"\"\n      }\n    }\n  ]\n}"
            }
          },
          "metadata": {},
          "execution_count": 43
        }
      ],
      "source": [
        "# Import our dependencies\n",
        "from sklearn.model_selection import train_test_split\n",
        "from sklearn.preprocessing import StandardScaler\n",
        "import pandas as pd\n",
        "import tensorflow as tf\n",
        "\n",
        "#  Import and read the charity_data.csv.\n",
        "import pandas as pd\n",
        "application_df = pd.read_csv(\"https://static.bc-edx.com/data/dl-1-2/m21/lms/starter/charity_data.csv\")\n",
        "application_df.head()"
      ]
    },
    {
      "cell_type": "markdown",
      "source": [
        "# Optimization Trial 1\n",
        "\n",
        "\n"
      ],
      "metadata": {
        "id": "1WvUW-pF8UYp"
      }
    },
    {
      "cell_type": "code",
      "execution_count": null,
      "metadata": {
        "id": "lCnUOJeS7AfG"
      },
      "outputs": [],
      "source": [
        "# Drop the non-beneficial ID columns, 'EIN', 'NAME', and 'SPECIAL_CONSIDERATIONS'.\n",
        "application_df_dropped_opt_1 = application_df.drop(columns=['EIN', 'NAME', 'SPECIAL_CONSIDERATIONS'])"
      ]
    },
    {
      "cell_type": "code",
      "execution_count": null,
      "metadata": {
        "id": "DN0UPvfA7AfH"
      },
      "outputs": [],
      "source": [
        "# Determine the number of unique values in each column.\n",
        "unique_values_opt_1 = application_df_dropped_opt_1.nunique()"
      ]
    },
    {
      "cell_type": "code",
      "execution_count": null,
      "metadata": {
        "colab": {
          "base_uri": "https://localhost:8080/"
        },
        "id": "SPc_8qKe7AfI",
        "outputId": "4a9a2ef8-ab97-4dff-8af8-deaf80641906"
      },
      "outputs": [
        {
          "output_type": "stream",
          "name": "stdout",
          "text": [
            "APPLICATION_TYPE\n",
            "T3     27037\n",
            "T4      1542\n",
            "T6      1216\n",
            "T5      1173\n",
            "T19     1065\n",
            "T8       737\n",
            "T7       725\n",
            "T10      528\n",
            "T9       156\n",
            "T13       66\n",
            "T12       27\n",
            "T2        16\n",
            "T25        3\n",
            "T14        3\n",
            "T29        2\n",
            "T15        2\n",
            "T17        1\n",
            "Name: count, dtype: int64\n"
          ]
        }
      ],
      "source": [
        "# Look at APPLICATION_TYPE value counts to identify and replace with \"Other\"\n",
        "application_type_counts_opt_1 = application_df_dropped_opt_1['APPLICATION_TYPE'].value_counts()\n",
        "print(application_type_counts_opt_1)"
      ]
    },
    {
      "cell_type": "code",
      "execution_count": null,
      "metadata": {
        "colab": {
          "base_uri": "https://localhost:8080/"
        },
        "id": "pyVCZKU67AfI",
        "outputId": "f622dd59-a889-4e9a-e820-ba05040fe9f4"
      },
      "outputs": [
        {
          "output_type": "stream",
          "name": "stdout",
          "text": [
            "APPLICATION_TYPE\n",
            "T3     27037\n",
            "T4      1542\n",
            "T6      1216\n",
            "T5      1173\n",
            "T19     1065\n",
            "T8       737\n",
            "T7       725\n",
            "T10      528\n",
            "T9       156\n",
            "T13       66\n",
            "T12       27\n",
            "T2        16\n",
            "T25        3\n",
            "T14        3\n",
            "T29        2\n",
            "T15        2\n",
            "T17        1\n",
            "Name: count, dtype: int64\n"
          ]
        }
      ],
      "source": [
        "# Choose a cutoff value and create a list of application types to be replaced\n",
        "# use the variable name `application_types_to_replace`\n",
        "cutoff_value_type_opt_1 = 500\n",
        "application_types_to_replace_opt_1 = application_type_counts_opt_1[application_type_counts_opt_1 < cutoff_value_type_opt_1].index.tolist()\n",
        "\n",
        "# Replace in dataframe\n",
        "for app in application_types_to_replace_opt_1:\n",
        "    application_df_dropped_opt_1['APPLICATION_TYPE'] = application_df_dropped_opt_1['APPLICATION_TYPE'].replace(app,\"Other\")\n",
        "\n",
        "print(application_type_counts_opt_1)"
      ]
    },
    {
      "cell_type": "code",
      "execution_count": null,
      "metadata": {
        "colab": {
          "base_uri": "https://localhost:8080/"
        },
        "id": "SP0e5efJ7AfK",
        "outputId": "7f3344c3-0bc0-414c-9f08-581f12ec18ca"
      },
      "outputs": [
        {
          "output_type": "execute_result",
          "data": {
            "text/plain": [
              "CLASSIFICATION\n",
              "C1000    17326\n",
              "C2000     6074\n",
              "C1200     4837\n",
              "Other     2261\n",
              "C3000     1918\n",
              "C2100     1883\n",
              "Name: count, dtype: int64"
            ]
          },
          "metadata": {},
          "execution_count": 48
        }
      ],
      "source": [
        "# Choose a cutoff value and create a list of classifications to be replaced\n",
        "# use the variable name `classifications_to_replace`\n",
        "\n",
        "classification_counts_opt_1 = application_df_dropped_opt_1['CLASSIFICATION'].value_counts()\n",
        "# Choosing a cutoff value and create a list of classifications to be replaced\n",
        "cutoff_value_class_opt_1 = 1000\n",
        "classifications_to_replace_opt_1 = classification_counts_opt_1[classification_counts_opt_1 < cutoff_value_class_opt_1].index.tolist()\n",
        "# Replace in dataframe\n",
        "for cls in classifications_to_replace_opt_1:\n",
        "    application_df_dropped_opt_1['CLASSIFICATION'] = application_df_dropped_opt_1['CLASSIFICATION'].replace(cls,\"Other\")\n",
        "\n",
        "# Check to make sure replacement was successful\n",
        "application_df_dropped_opt_1['CLASSIFICATION'].value_counts()"
      ]
    },
    {
      "cell_type": "code",
      "execution_count": null,
      "metadata": {
        "id": "yHHQgU-h7AfL"
      },
      "outputs": [],
      "source": [
        "# Convert categorical data to numeric with `pd.get_dummies`\n",
        "\n",
        "application_df_dropped_opt_1 = pd.get_dummies(application_df_dropped_opt_1)"
      ]
    },
    {
      "cell_type": "code",
      "execution_count": null,
      "metadata": {
        "id": "MnZitZ6a7AfL"
      },
      "outputs": [],
      "source": [
        "# Split our preprocessed data into our features and target arrays\n",
        "\n",
        "X = application_df_dropped_opt_1.drop(columns=['IS_SUCCESSFUL'])\n",
        "y = application_df_dropped_opt_1['IS_SUCCESSFUL']\n",
        "\n",
        "# Split the preprocessed data into a training and testing dataset\n",
        "\n",
        "from sklearn.model_selection import train_test_split\n",
        "X_train, X_test, y_train, y_test = train_test_split(X, y, test_size=0.2, random_state=42)"
      ]
    },
    {
      "cell_type": "code",
      "execution_count": null,
      "metadata": {
        "id": "l0t16XQA7AfL"
      },
      "outputs": [],
      "source": [
        "# Create a StandardScaler instances\n",
        "scaler = StandardScaler()\n",
        "\n",
        "# Fit the StandardScaler\n",
        "X_scaler = scaler.fit(X_train)\n",
        "\n",
        "# Scale the data\n",
        "X_train_scaled = X_scaler.transform(X_train)\n",
        "X_test_scaled = X_scaler.transform(X_test)"
      ]
    },
    {
      "cell_type": "markdown",
      "metadata": {
        "id": "y3_SX7X97AfL"
      },
      "source": [
        "## Compile, Train and Evaluate the Model"
      ]
    },
    {
      "cell_type": "code",
      "execution_count": null,
      "metadata": {
        "colab": {
          "base_uri": "https://localhost:8080/"
        },
        "id": "v5uOZRk37AfM",
        "outputId": "6f73f448-d8d8-4742-c7e3-36427f4eb863"
      },
      "outputs": [
        {
          "output_type": "stream",
          "name": "stdout",
          "text": [
            "Model: \"sequential_3\"\n",
            "_________________________________________________________________\n",
            " Layer (type)                Output Shape              Param #   \n",
            "=================================================================\n",
            " dense_9 (Dense)             (None, 80)                3360      \n",
            "                                                                 \n",
            " dense_10 (Dense)            (None, 30)                2430      \n",
            "                                                                 \n",
            " dense_11 (Dense)            (None, 1)                 31        \n",
            "                                                                 \n",
            "=================================================================\n",
            "Total params: 5821 (22.74 KB)\n",
            "Trainable params: 5821 (22.74 KB)\n",
            "Non-trainable params: 0 (0.00 Byte)\n",
            "_________________________________________________________________\n"
          ]
        }
      ],
      "source": [
        "# Define the model - deep neural net, i.e., the number of input features and hidden nodes for each layer.\n",
        "nn_opt_1 = tf.keras.models.Sequential()\n",
        "\n",
        "# First hidden layer\n",
        "nn_opt_1.add(tf.keras.layers.Dense(units=80, activation='relu', input_dim=X_train_scaled.shape[1]))\n",
        "\n",
        "# Second hidden layer\n",
        "nn_opt_1.add(tf.keras.layers.Dense(units=30, activation='relu'))\n",
        "\n",
        "# Output layer\n",
        "nn_opt_1.add(tf.keras.layers.Dense(units=1, activation='sigmoid'))\n",
        "\n",
        "# Compile the model\n",
        "nn_opt_1.compile(loss='binary_crossentropy', optimizer='adam', metrics=['accuracy'])\n",
        "\n",
        "# Check the structure of the model\n",
        "nn_opt_1.summary()"
      ]
    },
    {
      "cell_type": "code",
      "execution_count": null,
      "metadata": {
        "id": "88jutEeS7AfM"
      },
      "outputs": [],
      "source": [
        "# Compile the model\n",
        "nn_opt_1.compile(loss='binary_crossentropy', optimizer='adam', metrics=['accuracy'])"
      ]
    },
    {
      "cell_type": "code",
      "execution_count": null,
      "metadata": {
        "colab": {
          "base_uri": "https://localhost:8080/"
        },
        "id": "edo6vMAN7AfM",
        "outputId": "860edfe0-0471-456e-fb62-8b65d9542c70"
      },
      "outputs": [
        {
          "output_type": "stream",
          "name": "stdout",
          "text": [
            "Epoch 1/100\n",
            "686/686 [==============================] - 14s 13ms/step - loss: 0.5723 - accuracy: 0.7183 - val_loss: 0.5577 - val_accuracy: 0.7385\n",
            "Epoch 2/100\n",
            "686/686 [==============================] - 9s 14ms/step - loss: 0.5574 - accuracy: 0.7270 - val_loss: 0.5597 - val_accuracy: 0.7309\n",
            "Epoch 3/100\n",
            "686/686 [==============================] - 6s 9ms/step - loss: 0.5541 - accuracy: 0.7279 - val_loss: 0.5547 - val_accuracy: 0.7371\n",
            "Epoch 4/100\n",
            "686/686 [==============================] - 3s 5ms/step - loss: 0.5526 - accuracy: 0.7289 - val_loss: 0.5494 - val_accuracy: 0.7380\n",
            "Epoch 5/100\n",
            "686/686 [==============================] - 8s 12ms/step - loss: 0.5513 - accuracy: 0.7305 - val_loss: 0.5501 - val_accuracy: 0.7351\n",
            "Epoch 6/100\n",
            "686/686 [==============================] - 6s 9ms/step - loss: 0.5494 - accuracy: 0.7310 - val_loss: 0.5480 - val_accuracy: 0.7356\n",
            "Epoch 7/100\n",
            "686/686 [==============================] - 8s 12ms/step - loss: 0.5488 - accuracy: 0.7318 - val_loss: 0.5445 - val_accuracy: 0.7371\n",
            "Epoch 8/100\n",
            "686/686 [==============================] - 4s 6ms/step - loss: 0.5488 - accuracy: 0.7302 - val_loss: 0.5470 - val_accuracy: 0.7374\n",
            "Epoch 9/100\n",
            "686/686 [==============================] - 3s 4ms/step - loss: 0.5476 - accuracy: 0.7314 - val_loss: 0.5506 - val_accuracy: 0.7376\n",
            "Epoch 10/100\n",
            "686/686 [==============================] - 3s 4ms/step - loss: 0.5474 - accuracy: 0.7313 - val_loss: 0.5468 - val_accuracy: 0.7371\n",
            "Epoch 11/100\n",
            "686/686 [==============================] - 8s 12ms/step - loss: 0.5472 - accuracy: 0.7321 - val_loss: 0.5465 - val_accuracy: 0.7356\n",
            "Epoch 12/100\n",
            "686/686 [==============================] - 4s 6ms/step - loss: 0.5459 - accuracy: 0.7334 - val_loss: 0.5433 - val_accuracy: 0.7387\n",
            "Epoch 13/100\n",
            "686/686 [==============================] - 4s 6ms/step - loss: 0.5461 - accuracy: 0.7327 - val_loss: 0.5442 - val_accuracy: 0.7362\n",
            "Epoch 14/100\n",
            "686/686 [==============================] - 3s 5ms/step - loss: 0.5453 - accuracy: 0.7326 - val_loss: 0.5482 - val_accuracy: 0.7376\n",
            "Epoch 15/100\n",
            "686/686 [==============================] - 4s 5ms/step - loss: 0.5456 - accuracy: 0.7339 - val_loss: 0.5446 - val_accuracy: 0.7371\n",
            "Epoch 16/100\n",
            "686/686 [==============================] - 3s 4ms/step - loss: 0.5447 - accuracy: 0.7342 - val_loss: 0.5467 - val_accuracy: 0.7358\n",
            "Epoch 17/100\n",
            "686/686 [==============================] - 3s 4ms/step - loss: 0.5442 - accuracy: 0.7336 - val_loss: 0.5471 - val_accuracy: 0.7385\n",
            "Epoch 18/100\n",
            "686/686 [==============================] - 3s 4ms/step - loss: 0.5443 - accuracy: 0.7338 - val_loss: 0.5454 - val_accuracy: 0.7341\n",
            "Epoch 19/100\n",
            "686/686 [==============================] - 9s 13ms/step - loss: 0.5439 - accuracy: 0.7330 - val_loss: 0.5462 - val_accuracy: 0.7396\n",
            "Epoch 20/100\n",
            "686/686 [==============================] - 8s 11ms/step - loss: 0.5437 - accuracy: 0.7345 - val_loss: 0.5461 - val_accuracy: 0.7398\n",
            "Epoch 21/100\n",
            "686/686 [==============================] - 9s 13ms/step - loss: 0.5435 - accuracy: 0.7347 - val_loss: 0.5475 - val_accuracy: 0.7367\n",
            "Epoch 22/100\n",
            "686/686 [==============================] - 3s 4ms/step - loss: 0.5427 - accuracy: 0.7355 - val_loss: 0.5477 - val_accuracy: 0.7374\n",
            "Epoch 23/100\n",
            "686/686 [==============================] - 3s 4ms/step - loss: 0.5424 - accuracy: 0.7352 - val_loss: 0.5435 - val_accuracy: 0.7402\n",
            "Epoch 24/100\n",
            "686/686 [==============================] - 5s 7ms/step - loss: 0.5427 - accuracy: 0.7342 - val_loss: 0.5447 - val_accuracy: 0.7405\n",
            "Epoch 25/100\n",
            "686/686 [==============================] - 7s 11ms/step - loss: 0.5422 - accuracy: 0.7340 - val_loss: 0.5437 - val_accuracy: 0.7396\n",
            "Epoch 26/100\n",
            "686/686 [==============================] - 7s 10ms/step - loss: 0.5418 - accuracy: 0.7365 - val_loss: 0.5457 - val_accuracy: 0.7382\n",
            "Epoch 27/100\n",
            "686/686 [==============================] - 3s 5ms/step - loss: 0.5418 - accuracy: 0.7346 - val_loss: 0.5448 - val_accuracy: 0.7380\n",
            "Epoch 28/100\n",
            "686/686 [==============================] - 4s 6ms/step - loss: 0.5412 - accuracy: 0.7361 - val_loss: 0.5461 - val_accuracy: 0.7396\n",
            "Epoch 29/100\n",
            "686/686 [==============================] - 3s 4ms/step - loss: 0.5419 - accuracy: 0.7361 - val_loss: 0.5448 - val_accuracy: 0.7387\n",
            "Epoch 30/100\n",
            "686/686 [==============================] - 2s 4ms/step - loss: 0.5416 - accuracy: 0.7358 - val_loss: 0.5470 - val_accuracy: 0.7376\n",
            "Epoch 31/100\n",
            "686/686 [==============================] - 3s 5ms/step - loss: 0.5409 - accuracy: 0.7358 - val_loss: 0.5454 - val_accuracy: 0.7396\n",
            "Epoch 32/100\n",
            "686/686 [==============================] - 8s 11ms/step - loss: 0.5407 - accuracy: 0.7363 - val_loss: 0.5445 - val_accuracy: 0.7400\n",
            "Epoch 33/100\n",
            "686/686 [==============================] - 6s 9ms/step - loss: 0.5402 - accuracy: 0.7368 - val_loss: 0.5448 - val_accuracy: 0.7389\n",
            "Epoch 34/100\n",
            "686/686 [==============================] - 3s 4ms/step - loss: 0.5401 - accuracy: 0.7367 - val_loss: 0.5458 - val_accuracy: 0.7394\n",
            "Epoch 35/100\n",
            "686/686 [==============================] - 3s 5ms/step - loss: 0.5404 - accuracy: 0.7357 - val_loss: 0.5471 - val_accuracy: 0.7383\n",
            "Epoch 36/100\n",
            "686/686 [==============================] - 4s 6ms/step - loss: 0.5403 - accuracy: 0.7358 - val_loss: 0.5449 - val_accuracy: 0.7392\n",
            "Epoch 37/100\n",
            "686/686 [==============================] - 3s 4ms/step - loss: 0.5402 - accuracy: 0.7362 - val_loss: 0.5450 - val_accuracy: 0.7391\n",
            "Epoch 38/100\n",
            "686/686 [==============================] - 3s 5ms/step - loss: 0.5397 - accuracy: 0.7370 - val_loss: 0.5464 - val_accuracy: 0.7391\n",
            "Epoch 39/100\n",
            "686/686 [==============================] - 5s 8ms/step - loss: 0.5400 - accuracy: 0.7375 - val_loss: 0.5465 - val_accuracy: 0.7374\n",
            "Epoch 40/100\n",
            "686/686 [==============================] - 7s 10ms/step - loss: 0.5396 - accuracy: 0.7360 - val_loss: 0.5463 - val_accuracy: 0.7385\n",
            "Epoch 41/100\n",
            "686/686 [==============================] - 5s 7ms/step - loss: 0.5396 - accuracy: 0.7359 - val_loss: 0.5440 - val_accuracy: 0.7403\n",
            "Epoch 42/100\n",
            "686/686 [==============================] - 3s 4ms/step - loss: 0.5395 - accuracy: 0.7359 - val_loss: 0.5478 - val_accuracy: 0.7385\n",
            "Epoch 43/100\n",
            "686/686 [==============================] - 4s 5ms/step - loss: 0.5391 - accuracy: 0.7360 - val_loss: 0.5455 - val_accuracy: 0.7403\n",
            "Epoch 44/100\n",
            "686/686 [==============================] - 3s 5ms/step - loss: 0.5393 - accuracy: 0.7352 - val_loss: 0.5440 - val_accuracy: 0.7411\n",
            "Epoch 45/100\n",
            "686/686 [==============================] - 3s 4ms/step - loss: 0.5388 - accuracy: 0.7368 - val_loss: 0.5468 - val_accuracy: 0.7400\n",
            "Epoch 46/100\n",
            "686/686 [==============================] - 2s 4ms/step - loss: 0.5386 - accuracy: 0.7376 - val_loss: 0.5442 - val_accuracy: 0.7394\n",
            "Epoch 47/100\n",
            "686/686 [==============================] - 7s 10ms/step - loss: 0.5387 - accuracy: 0.7362 - val_loss: 0.5446 - val_accuracy: 0.7396\n",
            "Epoch 48/100\n",
            "686/686 [==============================] - 14s 21ms/step - loss: 0.5382 - accuracy: 0.7373 - val_loss: 0.5459 - val_accuracy: 0.7374\n",
            "Epoch 49/100\n",
            "686/686 [==============================] - 8s 12ms/step - loss: 0.5388 - accuracy: 0.7372 - val_loss: 0.5455 - val_accuracy: 0.7392\n",
            "Epoch 50/100\n",
            "686/686 [==============================] - 3s 5ms/step - loss: 0.5384 - accuracy: 0.7376 - val_loss: 0.5456 - val_accuracy: 0.7389\n",
            "Epoch 51/100\n",
            "686/686 [==============================] - 6s 8ms/step - loss: 0.5380 - accuracy: 0.7374 - val_loss: 0.5453 - val_accuracy: 0.7400\n",
            "Epoch 52/100\n",
            "686/686 [==============================] - 9s 14ms/step - loss: 0.5381 - accuracy: 0.7372 - val_loss: 0.5457 - val_accuracy: 0.7380\n",
            "Epoch 53/100\n",
            "686/686 [==============================] - 5s 7ms/step - loss: 0.5381 - accuracy: 0.7374 - val_loss: 0.5445 - val_accuracy: 0.7396\n",
            "Epoch 54/100\n",
            "686/686 [==============================] - 4s 6ms/step - loss: 0.5380 - accuracy: 0.7375 - val_loss: 0.5476 - val_accuracy: 0.7389\n",
            "Epoch 55/100\n",
            "686/686 [==============================] - 5s 7ms/step - loss: 0.5378 - accuracy: 0.7382 - val_loss: 0.5448 - val_accuracy: 0.7394\n",
            "Epoch 56/100\n",
            "686/686 [==============================] - 4s 5ms/step - loss: 0.5378 - accuracy: 0.7376 - val_loss: 0.5449 - val_accuracy: 0.7396\n",
            "Epoch 57/100\n",
            "686/686 [==============================] - 5s 7ms/step - loss: 0.5371 - accuracy: 0.7378 - val_loss: 0.5484 - val_accuracy: 0.7409\n",
            "Epoch 58/100\n",
            "686/686 [==============================] - 4s 6ms/step - loss: 0.5378 - accuracy: 0.7370 - val_loss: 0.5466 - val_accuracy: 0.7391\n",
            "Epoch 59/100\n",
            "686/686 [==============================] - 7s 10ms/step - loss: 0.5375 - accuracy: 0.7368 - val_loss: 0.5456 - val_accuracy: 0.7392\n",
            "Epoch 60/100\n",
            "686/686 [==============================] - 3s 5ms/step - loss: 0.5373 - accuracy: 0.7371 - val_loss: 0.5464 - val_accuracy: 0.7385\n",
            "Epoch 61/100\n",
            "686/686 [==============================] - 3s 4ms/step - loss: 0.5373 - accuracy: 0.7380 - val_loss: 0.5494 - val_accuracy: 0.7380\n",
            "Epoch 62/100\n",
            "686/686 [==============================] - 4s 5ms/step - loss: 0.5378 - accuracy: 0.7386 - val_loss: 0.5467 - val_accuracy: 0.7385\n",
            "Epoch 63/100\n",
            "686/686 [==============================] - 4s 6ms/step - loss: 0.5369 - accuracy: 0.7379 - val_loss: 0.5454 - val_accuracy: 0.7398\n",
            "Epoch 64/100\n",
            "686/686 [==============================] - 3s 5ms/step - loss: 0.5372 - accuracy: 0.7375 - val_loss: 0.5452 - val_accuracy: 0.7403\n",
            "Epoch 65/100\n",
            "686/686 [==============================] - 4s 6ms/step - loss: 0.5367 - accuracy: 0.7365 - val_loss: 0.5475 - val_accuracy: 0.7391\n",
            "Epoch 66/100\n",
            "686/686 [==============================] - 2s 4ms/step - loss: 0.5370 - accuracy: 0.7377 - val_loss: 0.5456 - val_accuracy: 0.7392\n",
            "Epoch 67/100\n",
            "686/686 [==============================] - 9s 13ms/step - loss: 0.5369 - accuracy: 0.7375 - val_loss: 0.5466 - val_accuracy: 0.7409\n",
            "Epoch 68/100\n",
            "686/686 [==============================] - 6s 9ms/step - loss: 0.5370 - accuracy: 0.7380 - val_loss: 0.5460 - val_accuracy: 0.7382\n",
            "Epoch 69/100\n",
            "686/686 [==============================] - 3s 4ms/step - loss: 0.5368 - accuracy: 0.7379 - val_loss: 0.5489 - val_accuracy: 0.7391\n",
            "Epoch 70/100\n",
            "686/686 [==============================] - 3s 4ms/step - loss: 0.5363 - accuracy: 0.7375 - val_loss: 0.5473 - val_accuracy: 0.7376\n",
            "Epoch 71/100\n",
            "686/686 [==============================] - 6s 9ms/step - loss: 0.5363 - accuracy: 0.7380 - val_loss: 0.5518 - val_accuracy: 0.7383\n",
            "Epoch 72/100\n",
            "686/686 [==============================] - 5s 8ms/step - loss: 0.5370 - accuracy: 0.7379 - val_loss: 0.5465 - val_accuracy: 0.7389\n",
            "Epoch 73/100\n",
            "686/686 [==============================] - 4s 6ms/step - loss: 0.5366 - accuracy: 0.7386 - val_loss: 0.5509 - val_accuracy: 0.7389\n",
            "Epoch 74/100\n",
            "686/686 [==============================] - 6s 9ms/step - loss: 0.5361 - accuracy: 0.7363 - val_loss: 0.5482 - val_accuracy: 0.7358\n",
            "Epoch 75/100\n",
            "686/686 [==============================] - 3s 4ms/step - loss: 0.5362 - accuracy: 0.7381 - val_loss: 0.5499 - val_accuracy: 0.7376\n",
            "Epoch 76/100\n",
            "686/686 [==============================] - 3s 4ms/step - loss: 0.5365 - accuracy: 0.7381 - val_loss: 0.5498 - val_accuracy: 0.7385\n",
            "Epoch 77/100\n",
            "686/686 [==============================] - 3s 4ms/step - loss: 0.5360 - accuracy: 0.7377 - val_loss: 0.5509 - val_accuracy: 0.7385\n",
            "Epoch 78/100\n",
            "686/686 [==============================] - 3s 5ms/step - loss: 0.5362 - accuracy: 0.7389 - val_loss: 0.5459 - val_accuracy: 0.7392\n",
            "Epoch 79/100\n",
            "686/686 [==============================] - 6s 9ms/step - loss: 0.5361 - accuracy: 0.7378 - val_loss: 0.5469 - val_accuracy: 0.7396\n",
            "Epoch 80/100\n",
            "686/686 [==============================] - 7s 10ms/step - loss: 0.5358 - accuracy: 0.7381 - val_loss: 0.5498 - val_accuracy: 0.7400\n",
            "Epoch 81/100\n",
            "686/686 [==============================] - 8s 11ms/step - loss: 0.5361 - accuracy: 0.7372 - val_loss: 0.5466 - val_accuracy: 0.7400\n",
            "Epoch 82/100\n",
            "686/686 [==============================] - 3s 4ms/step - loss: 0.5356 - accuracy: 0.7377 - val_loss: 0.5488 - val_accuracy: 0.7376\n",
            "Epoch 83/100\n",
            "686/686 [==============================] - 3s 4ms/step - loss: 0.5354 - accuracy: 0.7389 - val_loss: 0.5486 - val_accuracy: 0.7391\n",
            "Epoch 84/100\n",
            "686/686 [==============================] - 3s 4ms/step - loss: 0.5360 - accuracy: 0.7390 - val_loss: 0.5481 - val_accuracy: 0.7383\n",
            "Epoch 85/100\n",
            "686/686 [==============================] - 2s 3ms/step - loss: 0.5355 - accuracy: 0.7392 - val_loss: 0.5528 - val_accuracy: 0.7394\n",
            "Epoch 86/100\n",
            "686/686 [==============================] - 5s 7ms/step - loss: 0.5356 - accuracy: 0.7385 - val_loss: 0.5487 - val_accuracy: 0.7387\n",
            "Epoch 87/100\n",
            "686/686 [==============================] - 6s 9ms/step - loss: 0.5358 - accuracy: 0.7386 - val_loss: 0.5505 - val_accuracy: 0.7382\n",
            "Epoch 88/100\n",
            "686/686 [==============================] - 6s 9ms/step - loss: 0.5356 - accuracy: 0.7387 - val_loss: 0.5491 - val_accuracy: 0.7391\n",
            "Epoch 89/100\n",
            "686/686 [==============================] - 8s 11ms/step - loss: 0.5351 - accuracy: 0.7386 - val_loss: 0.5527 - val_accuracy: 0.7382\n",
            "Epoch 90/100\n",
            "686/686 [==============================] - 3s 4ms/step - loss: 0.5360 - accuracy: 0.7378 - val_loss: 0.5518 - val_accuracy: 0.7392\n",
            "Epoch 91/100\n",
            "686/686 [==============================] - 3s 4ms/step - loss: 0.5354 - accuracy: 0.7375 - val_loss: 0.5510 - val_accuracy: 0.7389\n",
            "Epoch 92/100\n",
            "686/686 [==============================] - 3s 4ms/step - loss: 0.5353 - accuracy: 0.7381 - val_loss: 0.5512 - val_accuracy: 0.7389\n",
            "Epoch 93/100\n",
            "686/686 [==============================] - 6s 9ms/step - loss: 0.5354 - accuracy: 0.7388 - val_loss: 0.5539 - val_accuracy: 0.7387\n",
            "Epoch 94/100\n",
            "686/686 [==============================] - 4s 5ms/step - loss: 0.5352 - accuracy: 0.7378 - val_loss: 0.5498 - val_accuracy: 0.7378\n",
            "Epoch 95/100\n",
            "686/686 [==============================] - 4s 7ms/step - loss: 0.5352 - accuracy: 0.7379 - val_loss: 0.5484 - val_accuracy: 0.7392\n",
            "Epoch 96/100\n",
            "686/686 [==============================] - 4s 5ms/step - loss: 0.5348 - accuracy: 0.7385 - val_loss: 0.5494 - val_accuracy: 0.7382\n",
            "Epoch 97/100\n",
            "686/686 [==============================] - 5s 7ms/step - loss: 0.5347 - accuracy: 0.7384 - val_loss: 0.5527 - val_accuracy: 0.7389\n",
            "Epoch 98/100\n",
            "686/686 [==============================] - 4s 6ms/step - loss: 0.5350 - accuracy: 0.7389 - val_loss: 0.5504 - val_accuracy: 0.7396\n",
            "Epoch 99/100\n",
            "686/686 [==============================] - 2s 4ms/step - loss: 0.5354 - accuracy: 0.7383 - val_loss: 0.5535 - val_accuracy: 0.7380\n",
            "Epoch 100/100\n",
            "686/686 [==============================] - 3s 4ms/step - loss: 0.5351 - accuracy: 0.7386 - val_loss: 0.5540 - val_accuracy: 0.7387\n"
          ]
        }
      ],
      "source": [
        "# Train the model\n",
        "history_opt_1 = nn_opt_1.fit(X_train_scaled, y_train, epochs=100, batch_size=32, validation_split=0.2)"
      ]
    },
    {
      "cell_type": "code",
      "execution_count": null,
      "metadata": {
        "colab": {
          "base_uri": "https://localhost:8080/"
        },
        "id": "P_ZZD3jM7AfN",
        "outputId": "128a2a21-fd7d-49b6-a139-615f69ec0794"
      },
      "outputs": [
        {
          "output_type": "stream",
          "name": "stdout",
          "text": [
            "215/215 - 1s - loss: 0.5789 - accuracy: 0.7243 - 570ms/epoch - 3ms/step\n",
            "Loss: 0.5788825750350952, Accuracy: 0.72434401512146\n"
          ]
        }
      ],
      "source": [
        "# Evaluate the model using the test data\n",
        "model_loss_opt_1, model_accuracy_opt_1 = nn_opt_1.evaluate(X_test_scaled,y_test,verbose=2)\n",
        "print(f\"Loss: {model_loss_opt_1}, Accuracy: {model_accuracy_opt_1}\")"
      ]
    },
    {
      "cell_type": "code",
      "execution_count": null,
      "metadata": {
        "colab": {
          "base_uri": "https://localhost:8080/",
          "height": 448
        },
        "id": "BKTtb3Tk7AfN",
        "outputId": "2d325169-9dcc-440f-efec-9207317734f0"
      },
      "outputs": [
        {
          "output_type": "execute_result",
          "data": {
            "text/plain": [
              "<Axes: >"
            ]
          },
          "metadata": {},
          "execution_count": 56
        },
        {
          "output_type": "display_data",
          "data": {
            "text/plain": [
              "<Figure size 640x480 with 1 Axes>"
            ],
            "image/png": "[encoded data removed]"
          },
          "metadata": {}
        }
      ],
      "source": [
        "#Graphing the accuracy for visual representation\n",
        "history_df_opt_1 = pd.DataFrame(history_opt_1.history, index = range(1, len(history_opt_1.history['loss'])+1))\n",
        "history_df_opt_1.plot(y = 'accuracy')"
      ]
    },
    {
      "cell_type": "markdown",
      "source": [
        "# Optimization Trial 2"
      ],
      "metadata": {
        "id": "4MvgQG3IBlSQ"
      }
    },
    {
      "cell_type": "code",
      "execution_count": null,
      "metadata": {
        "id": "PI3GZUSWDGsH"
      },
      "outputs": [],
      "source": [
        "# Drop the non-beneficial ID columns, 'EIN' and 'NAME'.\n",
        "application_df_dropped_opt_2 = application_df.drop(columns=['EIN', 'NAME'])"
      ]
    },
    {
      "cell_type": "code",
      "execution_count": null,
      "metadata": {
        "id": "gBJXXIw-DGsI"
      },
      "outputs": [],
      "source": [
        "# Determine the number of unique values in each column.\n",
        "unique_values_opt_2 = application_df_dropped_opt_2.nunique()"
      ]
    },
    {
      "cell_type": "code",
      "execution_count": null,
      "metadata": {
        "colab": {
          "base_uri": "https://localhost:8080/"
        },
        "outputId": "f279e46d-041f-4eaa-dd89-cfa8b12ce8dc",
        "id": "aLm1J9vFDGsI"
      },
      "outputs": [
        {
          "output_type": "stream",
          "name": "stdout",
          "text": [
            "APPLICATION_TYPE\n",
            "T3     27037\n",
            "T4      1542\n",
            "T6      1216\n",
            "T5      1173\n",
            "T19     1065\n",
            "T8       737\n",
            "T7       725\n",
            "T10      528\n",
            "T9       156\n",
            "T13       66\n",
            "T12       27\n",
            "T2        16\n",
            "T25        3\n",
            "T14        3\n",
            "T29        2\n",
            "T15        2\n",
            "T17        1\n",
            "Name: count, dtype: int64\n"
          ]
        }
      ],
      "source": [
        "# Look at APPLICATION_TYPE value counts to identify and replace with \"Other\"\n",
        "application_type_counts_opt_2 = application_df_dropped_opt_2['APPLICATION_TYPE'].value_counts()\n",
        "print(application_type_counts_opt_2)"
      ]
    },
    {
      "cell_type": "code",
      "execution_count": null,
      "metadata": {
        "colab": {
          "base_uri": "https://localhost:8080/"
        },
        "id": "f_wdVblQDGsJ",
        "outputId": "d1ca57de-5d7b-430f-8e19-09a3331f0089"
      },
      "outputs": [
        {
          "output_type": "stream",
          "name": "stdout",
          "text": [
            "APPLICATION_TYPE\n",
            "T3     27037\n",
            "T4      1542\n",
            "T6      1216\n",
            "T5      1173\n",
            "T19     1065\n",
            "T8       737\n",
            "T7       725\n",
            "T10      528\n",
            "T9       156\n",
            "T13       66\n",
            "T12       27\n",
            "T2        16\n",
            "T25        3\n",
            "T14        3\n",
            "T29        2\n",
            "T15        2\n",
            "T17        1\n",
            "Name: count, dtype: int64\n"
          ]
        }
      ],
      "source": [
        "# Choose a cutoff value and create a list of application types to be replaced\n",
        "# use the variable name `application_types_to_replace`\n",
        "cutoff_value_type_opt_2 = 1200\n",
        "application_types_to_replace_opt_2 = application_type_counts_opt_2[application_type_counts_opt_2 < cutoff_value_type_opt_2].index.tolist()\n",
        "\n",
        "# Replace in dataframe\n",
        "for app in application_types_to_replace_opt_2:\n",
        "    application_df_dropped_opt_2['APPLICATION_TYPE'] = application_df_dropped_opt_2['APPLICATION_TYPE'].replace(app,\"Other\")\n",
        "\n",
        "print(application_type_counts_opt_2)"
      ]
    },
    {
      "cell_type": "code",
      "execution_count": null,
      "metadata": {
        "colab": {
          "base_uri": "https://localhost:8080/"
        },
        "outputId": "de2c00e0-de0e-47ff-caee-b854d5c33bac",
        "id": "J-sC4y3IDGsJ"
      },
      "outputs": [
        {
          "output_type": "execute_result",
          "data": {
            "text/plain": [
              "CLASSIFICATION\n",
              "C1000    17326\n",
              "C2000     6074\n",
              "C1200     4837\n",
              "C3000     1918\n",
              "C2100     1883\n",
              "C7000      777\n",
              "Other      669\n",
              "C1700      287\n",
              "C4000      194\n",
              "C5000      116\n",
              "C1270      114\n",
              "C2700      104\n",
              "Name: count, dtype: int64"
            ]
          },
          "metadata": {},
          "execution_count": 61
        }
      ],
      "source": [
        "# Choose a cutoff value and create a list of classifications to be replaced\n",
        "# use the variable name `classifications_to_replace`\n",
        "\n",
        "classification_counts_opt_2 = application_df_dropped_opt_2['CLASSIFICATION'].value_counts()\n",
        "# Choosing a cutoff value and create a list of classifications to be replaced\n",
        "cutoff_value_class_opt_2 = 100\n",
        "classifications_to_replace_opt_2 = classification_counts_opt_2[classification_counts_opt_2 < cutoff_value_class_opt_2].index.tolist()\n",
        "# Replace in dataframe\n",
        "for cls in classifications_to_replace_opt_2:\n",
        "    application_df_dropped_opt_2['CLASSIFICATION'] = application_df_dropped_opt_2['CLASSIFICATION'].replace(cls,\"Other\")\n",
        "\n",
        "# Check to make sure replacement was successful\n",
        "application_df_dropped_opt_2['CLASSIFICATION'].value_counts()"
      ]
    },
    {
      "cell_type": "code",
      "execution_count": null,
      "metadata": {
        "id": "NBemxfHXDGsJ"
      },
      "outputs": [],
      "source": [
        "# Convert categorical data to numeric with `pd.get_dummies`\n",
        "\n",
        "application_df_dropped_opt_2 = pd.get_dummies(application_df_dropped_opt_2)"
      ]
    },
    {
      "cell_type": "code",
      "execution_count": null,
      "metadata": {
        "id": "eFWwH8aADGsK"
      },
      "outputs": [],
      "source": [
        "# Split our preprocessed data into our features and target arrays\n",
        "\n",
        "X = application_df_dropped_opt_2.drop(columns=['IS_SUCCESSFUL'])\n",
        "y = application_df_dropped_opt_2['IS_SUCCESSFUL']\n",
        "\n",
        "# Split the preprocessed data into a training and testing dataset\n",
        "\n",
        "from sklearn.model_selection import train_test_split\n",
        "X_train, X_test, y_train, y_test = train_test_split(X, y, test_size=0.2, random_state=42)"
      ]
    },
    {
      "cell_type": "code",
      "execution_count": null,
      "metadata": {
        "id": "SYHEoha9DGsK"
      },
      "outputs": [],
      "source": [
        "# Create a StandardScaler instances\n",
        "scaler = StandardScaler()\n",
        "\n",
        "# Fit the StandardScaler\n",
        "X_scaler = scaler.fit(X_train)\n",
        "\n",
        "# Scale the data\n",
        "X_train_scaled = X_scaler.transform(X_train)\n",
        "X_test_scaled = X_scaler.transform(X_test)"
      ]
    },
    {
      "cell_type": "markdown",
      "metadata": {
        "id": "jsUV-S69DGsL"
      },
      "source": [
        "## Compile, Train and Evaluate the Model"
      ]
    },
    {
      "cell_type": "code",
      "execution_count": null,
      "metadata": {
        "colab": {
          "base_uri": "https://localhost:8080/"
        },
        "outputId": "5361b467-7413-4bd0-ff68-8d216d889551",
        "id": "u80Y-_0eDGsL"
      },
      "outputs": [
        {
          "output_type": "stream",
          "name": "stdout",
          "text": [
            "Model: \"sequential_4\"\n",
            "_________________________________________________________________\n",
            " Layer (type)                Output Shape              Param #   \n",
            "=================================================================\n",
            " dense_12 (Dense)            (None, 45)                2025      \n",
            "                                                                 \n",
            " dense_13 (Dense)            (None, 25)                1150      \n",
            "                                                                 \n",
            " dense_14 (Dense)            (None, 1)                 26        \n",
            "                                                                 \n",
            "=================================================================\n",
            "Total params: 3201 (12.50 KB)\n",
            "Trainable params: 3201 (12.50 KB)\n",
            "Non-trainable params: 0 (0.00 Byte)\n",
            "_________________________________________________________________\n"
          ]
        }
      ],
      "source": [
        "# Define the model - deep neural net, i.e., the number of input features and hidden nodes for each layer.\n",
        "nn_opt_2 = tf.keras.models.Sequential()\n",
        "\n",
        "# First hidden layer\n",
        "nn_opt_2.add(tf.keras.layers.Dense(units=45, activation='relu', input_dim=X_train_scaled.shape[1]))\n",
        "\n",
        "# Second hidden layer\n",
        "nn_opt_2.add(tf.keras.layers.Dense(units=25, activation='relu'))\n",
        "\n",
        "# Output layer\n",
        "nn_opt_2.add(tf.keras.layers.Dense(units=1, activation='sigmoid'))\n",
        "\n",
        "# Compile the model\n",
        "nn_opt_2.compile(loss='binary_crossentropy', optimizer='adam', metrics=['accuracy'])\n",
        "\n",
        "# Check the structure of the model\n",
        "nn_opt_2.summary()"
      ]
    },
    {
      "cell_type": "code",
      "execution_count": null,
      "metadata": {
        "id": "hqUkS39SDGsM"
      },
      "outputs": [],
      "source": [
        "# Compile the model\n",
        "nn_opt_2.compile(loss='binary_crossentropy', optimizer='adam', metrics=['accuracy'])"
      ]
    },
    {
      "cell_type": "code",
      "execution_count": null,
      "metadata": {
        "colab": {
          "base_uri": "https://localhost:8080/"
        },
        "outputId": "c8154a88-29e7-49cf-82cc-2b94cb3b2105",
        "id": "NfDL8hBqDGsM"
      },
      "outputs": [
        {
          "output_type": "stream",
          "name": "stdout",
          "text": [
            "Epoch 1/100\n",
            "686/686 [==============================] - 12s 12ms/step - loss: 0.5893 - accuracy: 0.7053 - val_loss: 0.5581 - val_accuracy: 0.7325\n",
            "Epoch 2/100\n",
            "686/686 [==============================] - 6s 9ms/step - loss: 0.5673 - accuracy: 0.7225 - val_loss: 0.5574 - val_accuracy: 0.7314\n",
            "Epoch 3/100\n",
            "686/686 [==============================] - 3s 4ms/step - loss: 0.5637 - accuracy: 0.7217 - val_loss: 0.5529 - val_accuracy: 0.7360\n",
            "Epoch 4/100\n",
            "686/686 [==============================] - 3s 4ms/step - loss: 0.5614 - accuracy: 0.7227 - val_loss: 0.5539 - val_accuracy: 0.7343\n",
            "Epoch 5/100\n",
            "686/686 [==============================] - 3s 4ms/step - loss: 0.5603 - accuracy: 0.7230 - val_loss: 0.5555 - val_accuracy: 0.7352\n",
            "Epoch 6/100\n",
            "686/686 [==============================] - 3s 4ms/step - loss: 0.5590 - accuracy: 0.7248 - val_loss: 0.5528 - val_accuracy: 0.7327\n",
            "Epoch 7/100\n",
            "686/686 [==============================] - 6s 9ms/step - loss: 0.5593 - accuracy: 0.7245 - val_loss: 0.5544 - val_accuracy: 0.7362\n",
            "Epoch 8/100\n",
            "686/686 [==============================] - 5s 8ms/step - loss: 0.5580 - accuracy: 0.7234 - val_loss: 0.5523 - val_accuracy: 0.7312\n",
            "Epoch 9/100\n",
            "686/686 [==============================] - 6s 8ms/step - loss: 0.5566 - accuracy: 0.7271 - val_loss: 0.5582 - val_accuracy: 0.7259\n",
            "Epoch 10/100\n",
            "686/686 [==============================] - 4s 6ms/step - loss: 0.5572 - accuracy: 0.7268 - val_loss: 0.5526 - val_accuracy: 0.7323\n",
            "Epoch 11/100\n",
            "686/686 [==============================] - 3s 4ms/step - loss: 0.5560 - accuracy: 0.7276 - val_loss: 0.5549 - val_accuracy: 0.7323\n",
            "Epoch 12/100\n",
            "686/686 [==============================] - 3s 4ms/step - loss: 0.5550 - accuracy: 0.7268 - val_loss: 0.5575 - val_accuracy: 0.7274\n",
            "Epoch 13/100\n",
            "686/686 [==============================] - 3s 4ms/step - loss: 0.5564 - accuracy: 0.7272 - val_loss: 0.5526 - val_accuracy: 0.7341\n",
            "Epoch 14/100\n",
            "686/686 [==============================] - 3s 5ms/step - loss: 0.5547 - accuracy: 0.7274 - val_loss: 0.5542 - val_accuracy: 0.7312\n",
            "Epoch 15/100\n",
            "686/686 [==============================] - 5s 8ms/step - loss: 0.5553 - accuracy: 0.7266 - val_loss: 0.5526 - val_accuracy: 0.7351\n",
            "Epoch 16/100\n",
            "686/686 [==============================] - 3s 5ms/step - loss: 0.5541 - accuracy: 0.7275 - val_loss: 0.5526 - val_accuracy: 0.7331\n",
            "Epoch 17/100\n",
            "686/686 [==============================] - 4s 6ms/step - loss: 0.5545 - accuracy: 0.7264 - val_loss: 0.5534 - val_accuracy: 0.7338\n",
            "Epoch 18/100\n",
            "686/686 [==============================] - 4s 6ms/step - loss: 0.5533 - accuracy: 0.7277 - val_loss: 0.5536 - val_accuracy: 0.7345\n",
            "Epoch 19/100\n",
            "686/686 [==============================] - 3s 4ms/step - loss: 0.5534 - accuracy: 0.7286 - val_loss: 0.5534 - val_accuracy: 0.7321\n",
            "Epoch 20/100\n",
            "686/686 [==============================] - 2s 3ms/step - loss: 0.5537 - accuracy: 0.7268 - val_loss: 0.5534 - val_accuracy: 0.7340\n",
            "Epoch 21/100\n",
            "686/686 [==============================] - 2s 4ms/step - loss: 0.5530 - accuracy: 0.7256 - val_loss: 0.5521 - val_accuracy: 0.7309\n",
            "Epoch 22/100\n",
            "686/686 [==============================] - 3s 4ms/step - loss: 0.5527 - accuracy: 0.7283 - val_loss: 0.5540 - val_accuracy: 0.7351\n",
            "Epoch 23/100\n",
            "686/686 [==============================] - 4s 5ms/step - loss: 0.5530 - accuracy: 0.7281 - val_loss: 0.5516 - val_accuracy: 0.7360\n",
            "Epoch 24/100\n",
            "686/686 [==============================] - 5s 7ms/step - loss: 0.5521 - accuracy: 0.7283 - val_loss: 0.5563 - val_accuracy: 0.7336\n",
            "Epoch 25/100\n",
            "686/686 [==============================] - 6s 8ms/step - loss: 0.5524 - accuracy: 0.7283 - val_loss: 0.5522 - val_accuracy: 0.7356\n",
            "Epoch 26/100\n",
            "686/686 [==============================] - 8s 11ms/step - loss: 0.5525 - accuracy: 0.7275 - val_loss: 0.5549 - val_accuracy: 0.7351\n",
            "Epoch 27/100\n",
            "686/686 [==============================] - 4s 6ms/step - loss: 0.5517 - accuracy: 0.7294 - val_loss: 0.5524 - val_accuracy: 0.7349\n",
            "Epoch 28/100\n",
            "686/686 [==============================] - 3s 4ms/step - loss: 0.5523 - accuracy: 0.7296 - val_loss: 0.5523 - val_accuracy: 0.7349\n",
            "Epoch 29/100\n",
            "686/686 [==============================] - 3s 4ms/step - loss: 0.5518 - accuracy: 0.7298 - val_loss: 0.5520 - val_accuracy: 0.7338\n",
            "Epoch 30/100\n",
            "686/686 [==============================] - 3s 4ms/step - loss: 0.5521 - accuracy: 0.7284 - val_loss: 0.5523 - val_accuracy: 0.7340\n",
            "Epoch 31/100\n",
            "686/686 [==============================] - 5s 7ms/step - loss: 0.5511 - accuracy: 0.7305 - val_loss: 0.5535 - val_accuracy: 0.7341\n",
            "Epoch 32/100\n",
            "686/686 [==============================] - 12s 17ms/step - loss: 0.5513 - accuracy: 0.7280 - val_loss: 0.5518 - val_accuracy: 0.7312\n",
            "Epoch 33/100\n",
            "686/686 [==============================] - 9s 13ms/step - loss: 0.5515 - accuracy: 0.7282 - val_loss: 0.5530 - val_accuracy: 0.7336\n",
            "Epoch 34/100\n",
            "686/686 [==============================] - 2s 3ms/step - loss: 0.5509 - accuracy: 0.7294 - val_loss: 0.5521 - val_accuracy: 0.7316\n",
            "Epoch 35/100\n",
            "686/686 [==============================] - 2s 3ms/step - loss: 0.5508 - accuracy: 0.7300 - val_loss: 0.5526 - val_accuracy: 0.7358\n",
            "Epoch 36/100\n",
            "686/686 [==============================] - 2s 3ms/step - loss: 0.5508 - accuracy: 0.7299 - val_loss: 0.5528 - val_accuracy: 0.7365\n",
            "Epoch 37/100\n",
            "686/686 [==============================] - 3s 4ms/step - loss: 0.5508 - accuracy: 0.7294 - val_loss: 0.5539 - val_accuracy: 0.7343\n",
            "Epoch 38/100\n",
            "686/686 [==============================] - 10s 14ms/step - loss: 0.5502 - accuracy: 0.7300 - val_loss: 0.5540 - val_accuracy: 0.7347\n",
            "Epoch 39/100\n",
            "686/686 [==============================] - 5s 7ms/step - loss: 0.5506 - accuracy: 0.7298 - val_loss: 0.5531 - val_accuracy: 0.7358\n",
            "Epoch 40/100\n",
            "686/686 [==============================] - 2s 3ms/step - loss: 0.5504 - accuracy: 0.7307 - val_loss: 0.5541 - val_accuracy: 0.7363\n",
            "Epoch 41/100\n",
            "686/686 [==============================] - 3s 4ms/step - loss: 0.5505 - accuracy: 0.7303 - val_loss: 0.5520 - val_accuracy: 0.7349\n",
            "Epoch 42/100\n",
            "686/686 [==============================] - 4s 5ms/step - loss: 0.5500 - accuracy: 0.7304 - val_loss: 0.5532 - val_accuracy: 0.7356\n",
            "Epoch 43/100\n",
            "686/686 [==============================] - 2s 3ms/step - loss: 0.5501 - accuracy: 0.7304 - val_loss: 0.5521 - val_accuracy: 0.7352\n",
            "Epoch 44/100\n",
            "686/686 [==============================] - 2s 3ms/step - loss: 0.5502 - accuracy: 0.7310 - val_loss: 0.5513 - val_accuracy: 0.7343\n",
            "Epoch 45/100\n",
            "686/686 [==============================] - 2s 3ms/step - loss: 0.5497 - accuracy: 0.7293 - val_loss: 0.5522 - val_accuracy: 0.7349\n",
            "Epoch 46/100\n",
            "686/686 [==============================] - 7s 10ms/step - loss: 0.5497 - accuracy: 0.7298 - val_loss: 0.5532 - val_accuracy: 0.7331\n",
            "Epoch 47/100\n",
            "686/686 [==============================] - 7s 10ms/step - loss: 0.5492 - accuracy: 0.7296 - val_loss: 0.5536 - val_accuracy: 0.7323\n",
            "Epoch 48/100\n",
            "686/686 [==============================] - 2s 3ms/step - loss: 0.5495 - accuracy: 0.7299 - val_loss: 0.5537 - val_accuracy: 0.7360\n",
            "Epoch 49/100\n",
            "686/686 [==============================] - 3s 4ms/step - loss: 0.5495 - accuracy: 0.7307 - val_loss: 0.5530 - val_accuracy: 0.7345\n",
            "Epoch 50/100\n",
            "686/686 [==============================] - 4s 5ms/step - loss: 0.5492 - accuracy: 0.7315 - val_loss: 0.5525 - val_accuracy: 0.7331\n",
            "Epoch 51/100\n",
            "686/686 [==============================] - 2s 4ms/step - loss: 0.5491 - accuracy: 0.7305 - val_loss: 0.5555 - val_accuracy: 0.7356\n",
            "Epoch 52/100\n",
            "686/686 [==============================] - 2s 3ms/step - loss: 0.5494 - accuracy: 0.7317 - val_loss: 0.5527 - val_accuracy: 0.7372\n",
            "Epoch 53/100\n",
            "686/686 [==============================] - 2s 3ms/step - loss: 0.5493 - accuracy: 0.7301 - val_loss: 0.5536 - val_accuracy: 0.7378\n",
            "Epoch 54/100\n",
            "686/686 [==============================] - 3s 4ms/step - loss: 0.5491 - accuracy: 0.7314 - val_loss: 0.5558 - val_accuracy: 0.7362\n",
            "Epoch 55/100\n",
            "686/686 [==============================] - 9s 13ms/step - loss: 0.5490 - accuracy: 0.7300 - val_loss: 0.5513 - val_accuracy: 0.7356\n",
            "Epoch 56/100\n",
            "686/686 [==============================] - 5s 7ms/step - loss: 0.5489 - accuracy: 0.7307 - val_loss: 0.5533 - val_accuracy: 0.7349\n",
            "Epoch 57/100\n",
            "686/686 [==============================] - 2s 3ms/step - loss: 0.5486 - accuracy: 0.7309 - val_loss: 0.5525 - val_accuracy: 0.7349\n",
            "Epoch 58/100\n",
            "686/686 [==============================] - 3s 5ms/step - loss: 0.5486 - accuracy: 0.7309 - val_loss: 0.5511 - val_accuracy: 0.7365\n",
            "Epoch 59/100\n",
            "686/686 [==============================] - 4s 6ms/step - loss: 0.5483 - accuracy: 0.7309 - val_loss: 0.5543 - val_accuracy: 0.7289\n",
            "Epoch 60/100\n",
            "686/686 [==============================] - 2s 3ms/step - loss: 0.5486 - accuracy: 0.7287 - val_loss: 0.5538 - val_accuracy: 0.7354\n",
            "Epoch 61/100\n",
            "686/686 [==============================] - 2s 3ms/step - loss: 0.5485 - accuracy: 0.7314 - val_loss: 0.5554 - val_accuracy: 0.7325\n",
            "Epoch 62/100\n",
            "686/686 [==============================] - 2s 4ms/step - loss: 0.5486 - accuracy: 0.7308 - val_loss: 0.5531 - val_accuracy: 0.7340\n",
            "Epoch 63/100\n",
            "686/686 [==============================] - 4s 6ms/step - loss: 0.5481 - accuracy: 0.7309 - val_loss: 0.5557 - val_accuracy: 0.7349\n",
            "Epoch 64/100\n",
            "686/686 [==============================] - 10s 14ms/step - loss: 0.5479 - accuracy: 0.7311 - val_loss: 0.5536 - val_accuracy: 0.7371\n",
            "Epoch 65/100\n",
            "686/686 [==============================] - 6s 9ms/step - loss: 0.5484 - accuracy: 0.7311 - val_loss: 0.5521 - val_accuracy: 0.7349\n",
            "Epoch 66/100\n",
            "686/686 [==============================] - 4s 5ms/step - loss: 0.5480 - accuracy: 0.7304 - val_loss: 0.5533 - val_accuracy: 0.7362\n",
            "Epoch 67/100\n",
            "686/686 [==============================] - 2s 3ms/step - loss: 0.5480 - accuracy: 0.7309 - val_loss: 0.5513 - val_accuracy: 0.7382\n",
            "Epoch 68/100\n",
            "686/686 [==============================] - 2s 3ms/step - loss: 0.5481 - accuracy: 0.7314 - val_loss: 0.5537 - val_accuracy: 0.7332\n",
            "Epoch 69/100\n",
            "686/686 [==============================] - 2s 3ms/step - loss: 0.5474 - accuracy: 0.7311 - val_loss: 0.5551 - val_accuracy: 0.7351\n",
            "Epoch 70/100\n",
            "686/686 [==============================] - 2s 3ms/step - loss: 0.5478 - accuracy: 0.7314 - val_loss: 0.5561 - val_accuracy: 0.7363\n",
            "Epoch 71/100\n",
            "686/686 [==============================] - 9s 13ms/step - loss: 0.5479 - accuracy: 0.7312 - val_loss: 0.5553 - val_accuracy: 0.7336\n",
            "Epoch 72/100\n",
            "686/686 [==============================] - 5s 7ms/step - loss: 0.5473 - accuracy: 0.7309 - val_loss: 0.5542 - val_accuracy: 0.7347\n",
            "Epoch 73/100\n",
            "686/686 [==============================] - 2s 4ms/step - loss: 0.5479 - accuracy: 0.7311 - val_loss: 0.5554 - val_accuracy: 0.7331\n",
            "Epoch 74/100\n",
            "686/686 [==============================] - 3s 5ms/step - loss: 0.5474 - accuracy: 0.7307 - val_loss: 0.5541 - val_accuracy: 0.7369\n",
            "Epoch 75/100\n",
            "686/686 [==============================] - 3s 5ms/step - loss: 0.5471 - accuracy: 0.7313 - val_loss: 0.5556 - val_accuracy: 0.7321\n",
            "Epoch 76/100\n",
            "686/686 [==============================] - 2s 3ms/step - loss: 0.5474 - accuracy: 0.7309 - val_loss: 0.5549 - val_accuracy: 0.7336\n",
            "Epoch 77/100\n",
            "686/686 [==============================] - 2s 3ms/step - loss: 0.5477 - accuracy: 0.7317 - val_loss: 0.5528 - val_accuracy: 0.7351\n",
            "Epoch 78/100\n",
            "686/686 [==============================] - 2s 4ms/step - loss: 0.5474 - accuracy: 0.7310 - val_loss: 0.5546 - val_accuracy: 0.7329\n",
            "Epoch 79/100\n",
            "686/686 [==============================] - 2s 3ms/step - loss: 0.5472 - accuracy: 0.7324 - val_loss: 0.5532 - val_accuracy: 0.7345\n",
            "Epoch 80/100\n",
            "686/686 [==============================] - 8s 12ms/step - loss: 0.5472 - accuracy: 0.7309 - val_loss: 0.5554 - val_accuracy: 0.7331\n",
            "Epoch 81/100\n",
            "686/686 [==============================] - 4s 6ms/step - loss: 0.5473 - accuracy: 0.7311 - val_loss: 0.5546 - val_accuracy: 0.7340\n",
            "Epoch 82/100\n",
            "686/686 [==============================] - 2s 3ms/step - loss: 0.5473 - accuracy: 0.7327 - val_loss: 0.5554 - val_accuracy: 0.7309\n",
            "Epoch 83/100\n",
            "686/686 [==============================] - 2s 3ms/step - loss: 0.5472 - accuracy: 0.7319 - val_loss: 0.5563 - val_accuracy: 0.7354\n",
            "Epoch 84/100\n",
            "686/686 [==============================] - 3s 5ms/step - loss: 0.5471 - accuracy: 0.7325 - val_loss: 0.5558 - val_accuracy: 0.7356\n",
            "Epoch 85/100\n",
            "686/686 [==============================] - 3s 4ms/step - loss: 0.5471 - accuracy: 0.7318 - val_loss: 0.5562 - val_accuracy: 0.7310\n",
            "Epoch 86/100\n",
            "686/686 [==============================] - 2s 3ms/step - loss: 0.5472 - accuracy: 0.7315 - val_loss: 0.5571 - val_accuracy: 0.7316\n",
            "Epoch 87/100\n",
            "686/686 [==============================] - 3s 4ms/step - loss: 0.5470 - accuracy: 0.7308 - val_loss: 0.5540 - val_accuracy: 0.7329\n",
            "Epoch 88/100\n",
            "686/686 [==============================] - 2s 3ms/step - loss: 0.5475 - accuracy: 0.7318 - val_loss: 0.5565 - val_accuracy: 0.7329\n",
            "Epoch 89/100\n",
            "686/686 [==============================] - 3s 4ms/step - loss: 0.5469 - accuracy: 0.7315 - val_loss: 0.5541 - val_accuracy: 0.7358\n",
            "Epoch 90/100\n",
            "686/686 [==============================] - 9s 13ms/step - loss: 0.5469 - accuracy: 0.7312 - val_loss: 0.5565 - val_accuracy: 0.7347\n",
            "Epoch 91/100\n",
            "686/686 [==============================] - 7s 10ms/step - loss: 0.5469 - accuracy: 0.7310 - val_loss: 0.5565 - val_accuracy: 0.7314\n",
            "Epoch 92/100\n",
            "686/686 [==============================] - 4s 6ms/step - loss: 0.5469 - accuracy: 0.7307 - val_loss: 0.5555 - val_accuracy: 0.7270\n",
            "Epoch 93/100\n",
            "686/686 [==============================] - 4s 6ms/step - loss: 0.5470 - accuracy: 0.7315 - val_loss: 0.5557 - val_accuracy: 0.7340\n",
            "Epoch 94/100\n",
            "686/686 [==============================] - 3s 4ms/step - loss: 0.5468 - accuracy: 0.7324 - val_loss: 0.5558 - val_accuracy: 0.7352\n",
            "Epoch 95/100\n",
            "686/686 [==============================] - 3s 4ms/step - loss: 0.5468 - accuracy: 0.7310 - val_loss: 0.5550 - val_accuracy: 0.7325\n",
            "Epoch 96/100\n",
            "686/686 [==============================] - 3s 5ms/step - loss: 0.5467 - accuracy: 0.7320 - val_loss: 0.5584 - val_accuracy: 0.7352\n",
            "Epoch 97/100\n",
            "686/686 [==============================] - 10s 14ms/step - loss: 0.5466 - accuracy: 0.7320 - val_loss: 0.5578 - val_accuracy: 0.7345\n",
            "Epoch 98/100\n",
            "686/686 [==============================] - 4s 6ms/step - loss: 0.5474 - accuracy: 0.7315 - val_loss: 0.5596 - val_accuracy: 0.7341\n",
            "Epoch 99/100\n",
            "686/686 [==============================] - 2s 3ms/step - loss: 0.5465 - accuracy: 0.7316 - val_loss: 0.5570 - val_accuracy: 0.7341\n",
            "Epoch 100/100\n",
            "686/686 [==============================] - 2s 3ms/step - loss: 0.5465 - accuracy: 0.7309 - val_loss: 0.5582 - val_accuracy: 0.7314\n"
          ]
        }
      ],
      "source": [
        "# Train the model\n",
        "history_opt_2 = nn_opt_2.fit(X_train_scaled, y_train, epochs=100, batch_size=32, validation_split=0.2)"
      ]
    },
    {
      "cell_type": "code",
      "execution_count": null,
      "metadata": {
        "colab": {
          "base_uri": "https://localhost:8080/"
        },
        "outputId": "2c4a554c-32ea-4084-da85-9808cc5bbee7",
        "id": "-FINAgtWDGsO"
      },
      "outputs": [
        {
          "output_type": "stream",
          "name": "stdout",
          "text": [
            "215/215 - 0s - loss: 0.5742 - accuracy: 0.7223 - 317ms/epoch - 1ms/step\n",
            "Loss: 0.5741932392120361, Accuracy: 0.7223032116889954\n"
          ]
        }
      ],
      "source": [
        "# Evaluate the model using the test data\n",
        "model_loss_opt_2, model_accuracy_opt_2 = nn_opt_2.evaluate(X_test_scaled,y_test,verbose=2)\n",
        "print(f\"Loss: {model_loss_opt_2}, Accuracy: {model_accuracy_opt_2}\")"
      ]
    },
    {
      "cell_type": "code",
      "execution_count": null,
      "metadata": {
        "colab": {
          "base_uri": "https://localhost:8080/",
          "height": 447
        },
        "outputId": "bce6379e-17bd-4ab0-961c-7535ee43f871",
        "id": "UfXWeUKzDGsO"
      },
      "outputs": [
        {
          "output_type": "execute_result",
          "data": {
            "text/plain": [
              "<Axes: >"
            ]
          },
          "metadata": {},
          "execution_count": 69
        },
        {
          "output_type": "display_data",
          "data": {
            "text/plain": [
              "<Figure size 640x480 with 1 Axes>"
            ],
            "image/png": "[encoded data removed]"
          },
          "metadata": {}
        }
      ],
      "source": [
        "#Graphing the accuracy for visual representation\n",
        "history_df_opt_2 = pd.DataFrame(history_opt_2.history, index = range(1, len(history_opt_2.history['loss'])+1))\n",
        "history_df_opt_2.plot(y = 'accuracy')"
      ]
    },
    {
      "cell_type": "markdown",
      "source": [
        "# Optimization Trial 3\n",
        "\n"
      ],
      "metadata": {
        "id": "tdICdV5dE2oo"
      }
    },
    {
      "cell_type": "code",
      "execution_count": null,
      "metadata": {
        "id": "ciQTMeHrE2oq"
      },
      "outputs": [],
      "source": [
        "# Drop the non-beneficial ID columns, 'EIN' and 'NAME'.\n",
        "application_df_dropped_opt_3 = application_df.drop(columns=['EIN', 'NAME'])"
      ]
    },
    {
      "cell_type": "code",
      "execution_count": null,
      "metadata": {
        "id": "SyJoTqbHE2oq"
      },
      "outputs": [],
      "source": [
        "# Determine the number of unique values in each column.\n",
        "unique_values_opt_3 = application_df_dropped_opt_3.nunique()"
      ]
    },
    {
      "cell_type": "code",
      "execution_count": null,
      "metadata": {
        "colab": {
          "base_uri": "https://localhost:8080/"
        },
        "outputId": "3691962d-5abf-4189-f77b-48376a49849c",
        "id": "LhG81yBGE2oq"
      },
      "outputs": [
        {
          "output_type": "stream",
          "name": "stdout",
          "text": [
            "APPLICATION_TYPE\n",
            "T3     27037\n",
            "T4      1542\n",
            "T6      1216\n",
            "T5      1173\n",
            "T19     1065\n",
            "T8       737\n",
            "T7       725\n",
            "T10      528\n",
            "T9       156\n",
            "T13       66\n",
            "T12       27\n",
            "T2        16\n",
            "T25        3\n",
            "T14        3\n",
            "T29        2\n",
            "T15        2\n",
            "T17        1\n",
            "Name: count, dtype: int64\n"
          ]
        }
      ],
      "source": [
        "# Look at APPLICATION_TYPE value counts to identify and replace with \"Other\"\n",
        "application_type_counts_opt_3 = application_df_dropped_opt_3['APPLICATION_TYPE'].value_counts()\n",
        "print(application_type_counts_opt_3)"
      ]
    },
    {
      "cell_type": "code",
      "execution_count": null,
      "metadata": {
        "colab": {
          "base_uri": "https://localhost:8080/"
        },
        "outputId": "fb69d41d-6b6d-4c94-d4d2-945befa98878",
        "id": "TAG_9t4XE2oq"
      },
      "outputs": [
        {
          "output_type": "stream",
          "name": "stdout",
          "text": [
            "APPLICATION_TYPE\n",
            "T3     27037\n",
            "T4      1542\n",
            "T6      1216\n",
            "T5      1173\n",
            "T19     1065\n",
            "T8       737\n",
            "T7       725\n",
            "T10      528\n",
            "T9       156\n",
            "T13       66\n",
            "T12       27\n",
            "T2        16\n",
            "T25        3\n",
            "T14        3\n",
            "T29        2\n",
            "T15        2\n",
            "T17        1\n",
            "Name: count, dtype: int64\n"
          ]
        }
      ],
      "source": [
        "# Choose a cutoff value and create a list of application types to be replaced\n",
        "# use the variable name `application_types_to_replace`\n",
        "cutoff_value_type_opt_3 = 100\n",
        "application_types_to_replace_opt_3 = application_type_counts_opt_3[application_type_counts_opt_3 < cutoff_value_type_opt_3].index.tolist()\n",
        "\n",
        "# Replace in dataframe\n",
        "for app in application_types_to_replace_opt_3:\n",
        "    application_df_dropped_opt_3['APPLICATION_TYPE'] = application_df_dropped_opt_3['APPLICATION_TYPE'].replace(app,\"Other\")\n",
        "\n",
        "print(application_type_counts_opt_3)"
      ]
    },
    {
      "cell_type": "code",
      "execution_count": null,
      "metadata": {
        "colab": {
          "base_uri": "https://localhost:8080/"
        },
        "outputId": "a6d4b4b2-2f6a-41de-a5c3-1553bf0fbd8f",
        "id": "7-KjA1nSE2or"
      },
      "outputs": [
        {
          "output_type": "execute_result",
          "data": {
            "text/plain": [
              "CLASSIFICATION\n",
              "C1000    17326\n",
              "C2000     6074\n",
              "C1200     4837\n",
              "C3000     1918\n",
              "C2100     1883\n",
              "Other     1197\n",
              "C7000      777\n",
              "C1700      287\n",
              "Name: count, dtype: int64"
            ]
          },
          "metadata": {},
          "execution_count": 74
        }
      ],
      "source": [
        "# Choose a cutoff value and create a list of classifications to be replaced\n",
        "# use the variable name `classifications_to_replace`\n",
        "\n",
        "classification_counts_opt_3 = application_df_dropped_opt_3['CLASSIFICATION'].value_counts()\n",
        "# Choosing a cutoff value and create a list of classifications to be replaced\n",
        "cutoff_value_class_opt_3 = 200\n",
        "classifications_to_replace_opt_3 = classification_counts_opt_3[classification_counts_opt_3 < cutoff_value_class_opt_3].index.tolist()\n",
        "# Replace in dataframe\n",
        "for cls in classifications_to_replace_opt_3:\n",
        "    application_df_dropped_opt_3['CLASSIFICATION'] = application_df_dropped_opt_3['CLASSIFICATION'].replace(cls,\"Other\")\n",
        "\n",
        "# Check to make sure replacement was successful\n",
        "application_df_dropped_opt_3['CLASSIFICATION'].value_counts()"
      ]
    },
    {
      "cell_type": "code",
      "execution_count": null,
      "metadata": {
        "id": "Jh2ZwNR0E2os"
      },
      "outputs": [],
      "source": [
        "# Convert categorical data to numeric with `pd.get_dummies`\n",
        "\n",
        "application_df_dropped_opt_3 = pd.get_dummies(application_df_dropped_opt_3)"
      ]
    },
    {
      "cell_type": "code",
      "execution_count": null,
      "metadata": {
        "id": "oeMUyTPdE2os"
      },
      "outputs": [],
      "source": [
        "# Split our preprocessed data into our features and target arrays\n",
        "\n",
        "X = application_df_dropped_opt_3.drop(columns=['IS_SUCCESSFUL'])\n",
        "y = application_df_dropped_opt_3['IS_SUCCESSFUL']\n",
        "\n",
        "# Split the preprocessed data into a training and testing dataset\n",
        "\n",
        "from sklearn.model_selection import train_test_split\n",
        "X_train, X_test, y_train, y_test = train_test_split(X, y, test_size=0.2, random_state=42)"
      ]
    },
    {
      "cell_type": "code",
      "execution_count": null,
      "metadata": {
        "id": "AzqbtggjE2ot"
      },
      "outputs": [],
      "source": [
        "# Create a StandardScaler instances\n",
        "scaler = StandardScaler()\n",
        "\n",
        "# Fit the StandardScaler\n",
        "X_scaler = scaler.fit(X_train)\n",
        "\n",
        "# Scale the data\n",
        "X_train_scaled = X_scaler.transform(X_train)\n",
        "X_test_scaled = X_scaler.transform(X_test)"
      ]
    },
    {
      "cell_type": "code",
      "source": [],
      "metadata": {
        "id": "5MbnRrQTKTg9"
      },
      "execution_count": null,
      "outputs": []
    },
    {
      "cell_type": "markdown",
      "metadata": {
        "id": "iekLxfHYE2ot"
      },
      "source": [
        "## Compile, Train and Evaluate the Model"
      ]
    },
    {
      "cell_type": "code",
      "execution_count": null,
      "metadata": {
        "colab": {
          "base_uri": "https://localhost:8080/"
        },
        "outputId": "e370f680-bb20-4829-c975-86f79d8ee19d",
        "id": "FQfYzv3sE2ot"
      },
      "outputs": [
        {
          "output_type": "stream",
          "name": "stdout",
          "text": [
            "Model: \"sequential_5\"\n",
            "_________________________________________________________________\n",
            " Layer (type)                Output Shape              Param #   \n",
            "=================================================================\n",
            " dense_15 (Dense)            (None, 120)               5640      \n",
            "                                                                 \n",
            " dense_16 (Dense)            (None, 40)                4840      \n",
            "                                                                 \n",
            " dense_17 (Dense)            (None, 1)                 41        \n",
            "                                                                 \n",
            "=================================================================\n",
            "Total params: 10521 (41.10 KB)\n",
            "Trainable params: 10521 (41.10 KB)\n",
            "Non-trainable params: 0 (0.00 Byte)\n",
            "_________________________________________________________________\n"
          ]
        }
      ],
      "source": [
        "# Define the model - deep neural net, i.e., the number of input features and hidden nodes for each layer.\n",
        "nn_opt_3 = tf.keras.models.Sequential()\n",
        "\n",
        "# First hidden layer\n",
        "nn_opt_3.add(tf.keras.layers.Dense(units=120, activation='relu', input_dim=X_train_scaled.shape[1]))\n",
        "\n",
        "# Second hidden layer\n",
        "nn_opt_3.add(tf.keras.layers.Dense(units=40, activation='tanh'))\n",
        "\n",
        "# Output layer\n",
        "nn_opt_3.add(tf.keras.layers.Dense(units=1, activation='sigmoid'))\n",
        "\n",
        "# Compile the model\n",
        "nn_opt_3.compile(loss='binary_crossentropy', optimizer='adam', metrics=['accuracy'])\n",
        "\n",
        "# Check the structure of the model\n",
        "nn_opt_3.summary()"
      ]
    },
    {
      "cell_type": "code",
      "execution_count": null,
      "metadata": {
        "id": "iFwWfMHUE2ou"
      },
      "outputs": [],
      "source": [
        "# Compile the model\n",
        "nn_opt_3.compile(loss='binary_crossentropy', optimizer='adam', metrics=['accuracy'])"
      ]
    },
    {
      "cell_type": "code",
      "execution_count": null,
      "metadata": {
        "colab": {
          "base_uri": "https://localhost:8080/"
        },
        "outputId": "6f085f46-d087-427a-a6ec-571afeb3a5d5",
        "id": "1nZY8eVME2ov"
      },
      "outputs": [
        {
          "output_type": "stream",
          "name": "stdout",
          "text": [
            "Epoch 1/100\n",
            "686/686 [==============================] - 5s 6ms/step - loss: 0.5702 - accuracy: 0.7187 - val_loss: 0.5471 - val_accuracy: 0.7316\n",
            "Epoch 2/100\n",
            "686/686 [==============================] - 3s 4ms/step - loss: 0.5578 - accuracy: 0.7250 - val_loss: 0.5494 - val_accuracy: 0.7367\n",
            "Epoch 3/100\n",
            "686/686 [==============================] - 3s 4ms/step - loss: 0.5535 - accuracy: 0.7283 - val_loss: 0.5511 - val_accuracy: 0.7321\n",
            "Epoch 4/100\n",
            "686/686 [==============================] - 7s 10ms/step - loss: 0.5516 - accuracy: 0.7279 - val_loss: 0.5487 - val_accuracy: 0.7334\n",
            "Epoch 5/100\n",
            "686/686 [==============================] - 5s 7ms/step - loss: 0.5502 - accuracy: 0.7299 - val_loss: 0.5507 - val_accuracy: 0.7289\n",
            "Epoch 6/100\n",
            "686/686 [==============================] - 2s 4ms/step - loss: 0.5491 - accuracy: 0.7292 - val_loss: 0.5436 - val_accuracy: 0.7394\n",
            "Epoch 7/100\n",
            "686/686 [==============================] - 2s 3ms/step - loss: 0.5487 - accuracy: 0.7314 - val_loss: 0.5446 - val_accuracy: 0.7382\n",
            "Epoch 8/100\n",
            "686/686 [==============================] - 3s 4ms/step - loss: 0.5473 - accuracy: 0.7327 - val_loss: 0.5495 - val_accuracy: 0.7305\n",
            "Epoch 9/100\n",
            "686/686 [==============================] - 2s 4ms/step - loss: 0.5468 - accuracy: 0.7323 - val_loss: 0.5484 - val_accuracy: 0.7352\n",
            "Epoch 10/100\n",
            "686/686 [==============================] - 4s 6ms/step - loss: 0.5465 - accuracy: 0.7309 - val_loss: 0.5442 - val_accuracy: 0.7365\n",
            "Epoch 11/100\n",
            "686/686 [==============================] - 3s 4ms/step - loss: 0.5458 - accuracy: 0.7334 - val_loss: 0.5447 - val_accuracy: 0.7372\n",
            "Epoch 12/100\n",
            "686/686 [==============================] - 3s 4ms/step - loss: 0.5456 - accuracy: 0.7318 - val_loss: 0.5441 - val_accuracy: 0.7352\n",
            "Epoch 13/100\n",
            "686/686 [==============================] - 7s 10ms/step - loss: 0.5445 - accuracy: 0.7334 - val_loss: 0.5460 - val_accuracy: 0.7367\n",
            "Epoch 14/100\n",
            "686/686 [==============================] - 7s 11ms/step - loss: 0.5440 - accuracy: 0.7327 - val_loss: 0.5430 - val_accuracy: 0.7371\n",
            "Epoch 15/100\n",
            "686/686 [==============================] - 2s 3ms/step - loss: 0.5437 - accuracy: 0.7349 - val_loss: 0.5451 - val_accuracy: 0.7314\n",
            "Epoch 16/100\n",
            "686/686 [==============================] - 3s 4ms/step - loss: 0.5435 - accuracy: 0.7331 - val_loss: 0.5434 - val_accuracy: 0.7391\n",
            "Epoch 17/100\n",
            "686/686 [==============================] - 3s 4ms/step - loss: 0.5432 - accuracy: 0.7343 - val_loss: 0.5434 - val_accuracy: 0.7372\n",
            "Epoch 18/100\n",
            "686/686 [==============================] - 4s 6ms/step - loss: 0.5429 - accuracy: 0.7326 - val_loss: 0.5432 - val_accuracy: 0.7385\n",
            "Epoch 19/100\n",
            "686/686 [==============================] - 3s 4ms/step - loss: 0.5423 - accuracy: 0.7321 - val_loss: 0.5436 - val_accuracy: 0.7374\n",
            "Epoch 20/100\n",
            "686/686 [==============================] - 2s 4ms/step - loss: 0.5420 - accuracy: 0.7333 - val_loss: 0.5423 - val_accuracy: 0.7398\n",
            "Epoch 21/100\n",
            "686/686 [==============================] - 5s 7ms/step - loss: 0.5414 - accuracy: 0.7338 - val_loss: 0.5429 - val_accuracy: 0.7389\n",
            "Epoch 22/100\n",
            "686/686 [==============================] - 9s 13ms/step - loss: 0.5413 - accuracy: 0.7355 - val_loss: 0.5428 - val_accuracy: 0.7383\n",
            "Epoch 23/100\n",
            "686/686 [==============================] - 3s 5ms/step - loss: 0.5414 - accuracy: 0.7341 - val_loss: 0.5443 - val_accuracy: 0.7387\n",
            "Epoch 24/100\n",
            "686/686 [==============================] - 3s 4ms/step - loss: 0.5407 - accuracy: 0.7342 - val_loss: 0.5459 - val_accuracy: 0.7365\n",
            "Epoch 25/100\n",
            "686/686 [==============================] - 4s 5ms/step - loss: 0.5407 - accuracy: 0.7342 - val_loss: 0.5427 - val_accuracy: 0.7385\n",
            "Epoch 26/100\n",
            "686/686 [==============================] - 4s 6ms/step - loss: 0.5402 - accuracy: 0.7361 - val_loss: 0.5442 - val_accuracy: 0.7371\n",
            "Epoch 27/100\n",
            "686/686 [==============================] - 3s 5ms/step - loss: 0.5402 - accuracy: 0.7355 - val_loss: 0.5426 - val_accuracy: 0.7376\n",
            "Epoch 28/100\n",
            "686/686 [==============================] - 4s 6ms/step - loss: 0.5398 - accuracy: 0.7345 - val_loss: 0.5453 - val_accuracy: 0.7358\n",
            "Epoch 29/100\n",
            "686/686 [==============================] - 10s 14ms/step - loss: 0.5395 - accuracy: 0.7361 - val_loss: 0.5438 - val_accuracy: 0.7371\n",
            "Epoch 30/100\n",
            "686/686 [==============================] - 4s 6ms/step - loss: 0.5396 - accuracy: 0.7353 - val_loss: 0.5436 - val_accuracy: 0.7382\n",
            "Epoch 31/100\n",
            "686/686 [==============================] - 3s 4ms/step - loss: 0.5395 - accuracy: 0.7354 - val_loss: 0.5428 - val_accuracy: 0.7374\n",
            "Epoch 32/100\n",
            "686/686 [==============================] - 3s 4ms/step - loss: 0.5390 - accuracy: 0.7359 - val_loss: 0.5442 - val_accuracy: 0.7356\n",
            "Epoch 33/100\n",
            "686/686 [==============================] - 5s 7ms/step - loss: 0.5391 - accuracy: 0.7352 - val_loss: 0.5431 - val_accuracy: 0.7400\n",
            "Epoch 34/100\n",
            "686/686 [==============================] - 5s 7ms/step - loss: 0.5386 - accuracy: 0.7372 - val_loss: 0.5457 - val_accuracy: 0.7382\n",
            "Epoch 35/100\n",
            "686/686 [==============================] - 9s 13ms/step - loss: 0.5386 - accuracy: 0.7360 - val_loss: 0.5445 - val_accuracy: 0.7369\n",
            "Epoch 36/100\n",
            "686/686 [==============================] - 5s 7ms/step - loss: 0.5386 - accuracy: 0.7360 - val_loss: 0.5429 - val_accuracy: 0.7391\n",
            "Epoch 37/100\n",
            "686/686 [==============================] - 2s 4ms/step - loss: 0.5382 - accuracy: 0.7364 - val_loss: 0.5439 - val_accuracy: 0.7400\n",
            "Epoch 38/100\n",
            "686/686 [==============================] - 3s 4ms/step - loss: 0.5381 - accuracy: 0.7373 - val_loss: 0.5436 - val_accuracy: 0.7416\n",
            "Epoch 39/100\n",
            "686/686 [==============================] - 3s 4ms/step - loss: 0.5376 - accuracy: 0.7367 - val_loss: 0.5421 - val_accuracy: 0.7389\n",
            "Epoch 40/100\n",
            "686/686 [==============================] - 4s 6ms/step - loss: 0.5377 - accuracy: 0.7367 - val_loss: 0.5435 - val_accuracy: 0.7378\n",
            "Epoch 41/100\n",
            "686/686 [==============================] - 3s 4ms/step - loss: 0.5377 - accuracy: 0.7374 - val_loss: 0.5442 - val_accuracy: 0.7405\n",
            "Epoch 42/100\n",
            "686/686 [==============================] - 2s 4ms/step - loss: 0.5371 - accuracy: 0.7363 - val_loss: 0.5440 - val_accuracy: 0.7385\n",
            "Epoch 43/100\n",
            "686/686 [==============================] - 5s 7ms/step - loss: 0.5384 - accuracy: 0.7355 - val_loss: 0.5433 - val_accuracy: 0.7409\n",
            "Epoch 44/100\n",
            "686/686 [==============================] - 9s 14ms/step - loss: 0.5373 - accuracy: 0.7368 - val_loss: 0.5438 - val_accuracy: 0.7382\n",
            "Epoch 45/100\n",
            "686/686 [==============================] - 3s 5ms/step - loss: 0.5370 - accuracy: 0.7376 - val_loss: 0.5433 - val_accuracy: 0.7389\n",
            "Epoch 46/100\n",
            "686/686 [==============================] - 3s 4ms/step - loss: 0.5369 - accuracy: 0.7376 - val_loss: 0.5438 - val_accuracy: 0.7387\n",
            "Epoch 47/100\n",
            "686/686 [==============================] - 3s 4ms/step - loss: 0.5365 - accuracy: 0.7373 - val_loss: 0.5459 - val_accuracy: 0.7380\n",
            "Epoch 48/100\n",
            "686/686 [==============================] - 4s 6ms/step - loss: 0.5369 - accuracy: 0.7365 - val_loss: 0.5437 - val_accuracy: 0.7411\n",
            "Epoch 49/100\n",
            "686/686 [==============================] - 3s 5ms/step - loss: 0.5365 - accuracy: 0.7381 - val_loss: 0.5449 - val_accuracy: 0.7376\n",
            "Epoch 50/100\n",
            "686/686 [==============================] - 3s 4ms/step - loss: 0.5369 - accuracy: 0.7372 - val_loss: 0.5441 - val_accuracy: 0.7371\n",
            "Epoch 51/100\n",
            "686/686 [==============================] - 5s 7ms/step - loss: 0.5368 - accuracy: 0.7386 - val_loss: 0.5435 - val_accuracy: 0.7392\n",
            "Epoch 52/100\n",
            "686/686 [==============================] - 7s 10ms/step - loss: 0.5363 - accuracy: 0.7360 - val_loss: 0.5449 - val_accuracy: 0.7365\n",
            "Epoch 53/100\n",
            "686/686 [==============================] - 3s 4ms/step - loss: 0.5363 - accuracy: 0.7369 - val_loss: 0.5437 - val_accuracy: 0.7402\n",
            "Epoch 54/100\n",
            "686/686 [==============================] - 3s 4ms/step - loss: 0.5365 - accuracy: 0.7377 - val_loss: 0.5437 - val_accuracy: 0.7398\n",
            "Epoch 55/100\n",
            "686/686 [==============================] - 3s 4ms/step - loss: 0.5365 - accuracy: 0.7372 - val_loss: 0.5445 - val_accuracy: 0.7389\n",
            "Epoch 56/100\n",
            "686/686 [==============================] - 3s 4ms/step - loss: 0.5359 - accuracy: 0.7368 - val_loss: 0.5443 - val_accuracy: 0.7389\n",
            "Epoch 57/100\n",
            "686/686 [==============================] - 4s 6ms/step - loss: 0.5364 - accuracy: 0.7369 - val_loss: 0.5431 - val_accuracy: 0.7376\n",
            "Epoch 58/100\n",
            "686/686 [==============================] - 3s 4ms/step - loss: 0.5362 - accuracy: 0.7380 - val_loss: 0.5438 - val_accuracy: 0.7398\n",
            "Epoch 59/100\n",
            "686/686 [==============================] - 3s 4ms/step - loss: 0.5359 - accuracy: 0.7381 - val_loss: 0.5429 - val_accuracy: 0.7391\n",
            "Epoch 60/100\n",
            "686/686 [==============================] - 6s 8ms/step - loss: 0.5359 - accuracy: 0.7369 - val_loss: 0.5435 - val_accuracy: 0.7400\n",
            "Epoch 61/100\n",
            "686/686 [==============================] - 10s 15ms/step - loss: 0.5357 - accuracy: 0.7373 - val_loss: 0.5428 - val_accuracy: 0.7403\n",
            "Epoch 62/100\n",
            "686/686 [==============================] - 3s 5ms/step - loss: 0.5353 - accuracy: 0.7375 - val_loss: 0.5442 - val_accuracy: 0.7394\n",
            "Epoch 63/100\n",
            "686/686 [==============================] - 3s 4ms/step - loss: 0.5354 - accuracy: 0.7382 - val_loss: 0.5418 - val_accuracy: 0.7396\n",
            "Epoch 64/100\n",
            "686/686 [==============================] - 3s 4ms/step - loss: 0.5351 - accuracy: 0.7372 - val_loss: 0.5441 - val_accuracy: 0.7394\n",
            "Epoch 65/100\n",
            "686/686 [==============================] - 3s 5ms/step - loss: 0.5354 - accuracy: 0.7371 - val_loss: 0.5450 - val_accuracy: 0.7382\n",
            "Epoch 66/100\n",
            "686/686 [==============================] - 4s 5ms/step - loss: 0.5355 - accuracy: 0.7385 - val_loss: 0.5425 - val_accuracy: 0.7398\n",
            "Epoch 67/100\n",
            "686/686 [==============================] - 3s 5ms/step - loss: 0.5351 - accuracy: 0.7378 - val_loss: 0.5435 - val_accuracy: 0.7391\n",
            "Epoch 68/100\n",
            "686/686 [==============================] - 9s 13ms/step - loss: 0.5359 - accuracy: 0.7381 - val_loss: 0.5442 - val_accuracy: 0.7394\n",
            "Epoch 69/100\n",
            "686/686 [==============================] - 6s 9ms/step - loss: 0.5351 - accuracy: 0.7388 - val_loss: 0.5447 - val_accuracy: 0.7402\n",
            "Epoch 70/100\n",
            "686/686 [==============================] - 3s 4ms/step - loss: 0.5353 - accuracy: 0.7382 - val_loss: 0.5444 - val_accuracy: 0.7400\n",
            "Epoch 71/100\n",
            "686/686 [==============================] - 3s 4ms/step - loss: 0.5352 - accuracy: 0.7378 - val_loss: 0.5442 - val_accuracy: 0.7407\n",
            "Epoch 72/100\n",
            "686/686 [==============================] - 3s 4ms/step - loss: 0.5350 - accuracy: 0.7386 - val_loss: 0.5445 - val_accuracy: 0.7394\n",
            "Epoch 73/100\n",
            "686/686 [==============================] - 4s 6ms/step - loss: 0.5349 - accuracy: 0.7388 - val_loss: 0.5442 - val_accuracy: 0.7392\n",
            "Epoch 74/100\n",
            "686/686 [==============================] - 3s 5ms/step - loss: 0.5350 - accuracy: 0.7387 - val_loss: 0.5435 - val_accuracy: 0.7405\n",
            "Epoch 75/100\n",
            "686/686 [==============================] - 12s 17ms/step - loss: 0.5349 - accuracy: 0.7384 - val_loss: 0.5445 - val_accuracy: 0.7409\n",
            "Epoch 76/100\n",
            "686/686 [==============================] - 8s 11ms/step - loss: 0.5346 - accuracy: 0.7382 - val_loss: 0.5445 - val_accuracy: 0.7407\n",
            "Epoch 77/100\n",
            "686/686 [==============================] - 3s 5ms/step - loss: 0.5346 - accuracy: 0.7382 - val_loss: 0.5426 - val_accuracy: 0.7413\n",
            "Epoch 78/100\n",
            "686/686 [==============================] - 4s 6ms/step - loss: 0.5360 - accuracy: 0.7375 - val_loss: 0.5462 - val_accuracy: 0.7378\n",
            "Epoch 79/100\n",
            "686/686 [==============================] - 3s 5ms/step - loss: 0.5349 - accuracy: 0.7368 - val_loss: 0.5449 - val_accuracy: 0.7402\n",
            "Epoch 80/100\n",
            "686/686 [==============================] - 5s 7ms/step - loss: 0.5347 - accuracy: 0.7381 - val_loss: 0.5443 - val_accuracy: 0.7413\n",
            "Epoch 81/100\n",
            "686/686 [==============================] - 11s 17ms/step - loss: 0.5344 - accuracy: 0.7386 - val_loss: 0.5432 - val_accuracy: 0.7418\n",
            "Epoch 82/100\n",
            "686/686 [==============================] - 4s 5ms/step - loss: 0.5340 - accuracy: 0.7396 - val_loss: 0.5423 - val_accuracy: 0.7407\n",
            "Epoch 83/100\n",
            "686/686 [==============================] - 3s 4ms/step - loss: 0.5343 - accuracy: 0.7382 - val_loss: 0.5446 - val_accuracy: 0.7392\n",
            "Epoch 84/100\n",
            "686/686 [==============================] - 3s 4ms/step - loss: 0.5346 - accuracy: 0.7382 - val_loss: 0.5442 - val_accuracy: 0.7378\n",
            "Epoch 85/100\n",
            "686/686 [==============================] - 3s 4ms/step - loss: 0.5349 - accuracy: 0.7376 - val_loss: 0.5440 - val_accuracy: 0.7383\n",
            "Epoch 86/100\n",
            "686/686 [==============================] - 3s 5ms/step - loss: 0.5341 - accuracy: 0.7388 - val_loss: 0.5443 - val_accuracy: 0.7411\n",
            "Epoch 87/100\n",
            "686/686 [==============================] - 4s 5ms/step - loss: 0.5337 - accuracy: 0.7382 - val_loss: 0.5459 - val_accuracy: 0.7371\n",
            "Epoch 88/100\n",
            "686/686 [==============================] - 8s 12ms/step - loss: 0.5340 - accuracy: 0.7392 - val_loss: 0.5436 - val_accuracy: 0.7391\n",
            "Epoch 89/100\n",
            "686/686 [==============================] - 3s 5ms/step - loss: 0.5346 - accuracy: 0.7383 - val_loss: 0.5437 - val_accuracy: 0.7407\n",
            "Epoch 90/100\n",
            "686/686 [==============================] - 2s 4ms/step - loss: 0.5344 - accuracy: 0.7389 - val_loss: 0.5441 - val_accuracy: 0.7411\n",
            "Epoch 91/100\n",
            "686/686 [==============================] - 2s 3ms/step - loss: 0.5342 - accuracy: 0.7389 - val_loss: 0.5440 - val_accuracy: 0.7405\n",
            "Epoch 92/100\n",
            "686/686 [==============================] - 2s 3ms/step - loss: 0.5344 - accuracy: 0.7384 - val_loss: 0.5434 - val_accuracy: 0.7405\n",
            "Epoch 93/100\n",
            "686/686 [==============================] - 3s 4ms/step - loss: 0.5346 - accuracy: 0.7389 - val_loss: 0.5439 - val_accuracy: 0.7392\n",
            "Epoch 94/100\n",
            "686/686 [==============================] - 4s 5ms/step - loss: 0.5340 - accuracy: 0.7383 - val_loss: 0.5463 - val_accuracy: 0.7371\n",
            "Epoch 95/100\n",
            "686/686 [==============================] - 3s 4ms/step - loss: 0.5345 - accuracy: 0.7395 - val_loss: 0.5453 - val_accuracy: 0.7405\n",
            "Epoch 96/100\n",
            "686/686 [==============================] - 3s 4ms/step - loss: 0.5343 - accuracy: 0.7376 - val_loss: 0.5454 - val_accuracy: 0.7387\n",
            "Epoch 97/100\n",
            "686/686 [==============================] - 4s 5ms/step - loss: 0.5340 - accuracy: 0.7388 - val_loss: 0.5447 - val_accuracy: 0.7409\n",
            "Epoch 98/100\n",
            "686/686 [==============================] - 4s 6ms/step - loss: 0.5338 - accuracy: 0.7388 - val_loss: 0.5452 - val_accuracy: 0.7403\n",
            "Epoch 99/100\n",
            "686/686 [==============================] - 3s 5ms/step - loss: 0.5333 - accuracy: 0.7379 - val_loss: 0.5467 - val_accuracy: 0.7380\n",
            "Epoch 100/100\n",
            "686/686 [==============================] - 2s 3ms/step - loss: 0.5341 - accuracy: 0.7390 - val_loss: 0.5455 - val_accuracy: 0.7372\n"
          ]
        }
      ],
      "source": [
        "# Train the model\n",
        "history_opt_3 = nn_opt_3.fit(X_train_scaled, y_train, epochs=100, batch_size=32, validation_split=0.2)"
      ]
    },
    {
      "cell_type": "code",
      "execution_count": null,
      "metadata": {
        "colab": {
          "base_uri": "https://localhost:8080/"
        },
        "outputId": "58e48cd2-bada-4a9a-82c9-c7617f738ce3",
        "id": "Z5CehmUEE2ov"
      },
      "outputs": [
        {
          "output_type": "stream",
          "name": "stdout",
          "text": [
            "215/215 - 0s - loss: 0.5603 - accuracy: 0.7217 - 407ms/epoch - 2ms/step\n",
            "Loss: 0.5603495240211487, Accuracy: 0.7217200994491577\n"
          ]
        }
      ],
      "source": [
        "# Evaluate the model using the test data\n",
        "model_loss_opt_3, model_accuracy_opt_3 = nn_opt_3.evaluate(X_test_scaled,y_test,verbose=2)\n",
        "print(f\"Loss: {model_loss_opt_3}, Accuracy: {model_accuracy_opt_3}\")"
      ]
    },
    {
      "cell_type": "code",
      "execution_count": null,
      "metadata": {
        "colab": {
          "base_uri": "https://localhost:8080/",
          "height": 447
        },
        "outputId": "b5b5c96f-5639-4df9-f148-4985e6641a1d",
        "id": "ZwF2GKetE2ov"
      },
      "outputs": [
        {
          "output_type": "execute_result",
          "data": {
            "text/plain": [
              "<Axes: >"
            ]
          },
          "metadata": {},
          "execution_count": 82
        },
        {
          "output_type": "display_data",
          "data": {
            "text/plain": [
              "<Figure size 640x480 with 1 Axes>"
            ],
            "image/png": "[encoded data removed]"
          },
          "metadata": {}
        }
      ],
      "source": [
        "#Graphing the accuracy for visual representation\n",
        "history_df_opt_3 = pd.DataFrame(history_opt_3.history, index = range(1, len(history_opt_3.history['loss'])+1))\n",
        "history_df_opt_3.plot(y = 'accuracy')"
      ]
    },
    {
      "cell_type": "markdown",
      "source": [
        "# Export Models"
      ],
      "metadata": {
        "id": "IJhDtUn84dAz"
      }
    },
    {
      "cell_type": "code",
      "execution_count": null,
      "metadata": {
        "id": "QFcW5XSI7AfN"
      },
      "outputs": [],
      "source": [
        "# Export our model to HDF5 file\n",
        "\n",
        "nn_opt_1.save('AlphabetSoupCharity_Optimizations_1.h5')\n",
        "nn_opt_2.save('AlphabetSoupCharity_Optimizations_2.h5')\n",
        "nn_opt_3.save('AlphabetSoupCharity_Optimizations_3.h5')"
      ]
    },
    {
      "cell_type": "markdown",
      "source": [
        "# Analysis"
      ],
      "metadata": {
        "id": "9d1A_Nbf4gl3"
      }
    },
    {
      "cell_type": "markdown",
      "metadata": {
        "id": "LjFoF5Jo7AfO"
      },
      "source": [
        "## First attempt:\n",
        "\n",
        "Dropping a column that is not beneficial to the prediction"
      ]
    },
    {
      "cell_type": "code",
      "execution_count": null,
      "metadata": {
        "id": "YP2cTbnV7AfO"
      },
      "outputs": [],
      "source": [
        "#application_df = application_df.drop(columns=['EIN', 'NAME', 'SPECIAL_CONSIDERATIONS'])\n",
        "#application_df"
      ]
    },
    {
      "cell_type": "markdown",
      "metadata": {
        "id": "kODoJqyM7AfO"
      },
      "source": [
        "- application_types's cut off = 500\n",
        "- classification's cut off = 1000\n",
        "- First Layer units = 80  | activation: relu\n",
        "- Second Layer units= 30  | activation: relu\n",
        "- Third layer units = 1   | activation: sigmoid\n",
        "\n",
        "Accuracy = 0.0.7260932922363281\n",
        "\n",
        "Moving to the next attempt since 72% ≠ 75%"
      ]
    },
    {
      "cell_type": "markdown",
      "source": [
        "## Second attempt:"
      ],
      "metadata": {
        "id": "6L-IgSll4s5x"
      }
    },
    {
      "cell_type": "markdown",
      "metadata": {
        "id": "WzTudV3C7AfO"
      },
      "source": [
        "- application_types's cut off = 1200\n",
        "- classification's cut off = 100\n",
        "- First Layer units = 45  | activation: relu\n",
        "- Second Layer units= 25  | activation: relu\n",
        "- Third layer units = 1   | activation: sigmoid\n",
        "\n",
        "Accuracy =  0.7227405309677124\n",
        "\n",
        "Moving on to the third  attempt since 72% ≠ %75\n"
      ]
    },
    {
      "cell_type": "markdown",
      "source": [
        "## Third attempt:"
      ],
      "metadata": {
        "id": "Tg8UI4VD41Bj"
      }
    },
    {
      "cell_type": "markdown",
      "metadata": {
        "id": "E6EbdLeL7AfO"
      },
      "source": [
        "- application_types's cut off = 100\n",
        "- classification's cut off = 200\n",
        "- First Layer units = 120  | activation: relu\n",
        "- Second Layer units= 40  | activation: tanh\n",
        "- Third layer units = 1   | activation: sigmoid\n",
        "\n",
        "Accuracy =  0.7253644466400146\n",
        "\n",
        "No luck! Giving up."
      ]
    }
  ],
  "metadata": {
    "kernelspec": {
      "display_name": "Python 3",
      "language": "python",
      "name": "python3"
    },
    "language_info": {
      "codemirror_mode": {
        "name": "ipython",
        "version": 3
      },
      "file_extension": ".py",
      "mimetype": "text/x-python",
      "name": "python",
      "nbconvert_exporter": "python",
      "pygments_lexer": "ipython3",
      "version": "3.11.5"
    },
    "vscode": {
      "interpreter": {
        "hash": "31f2aee4e71d21fbe5cf8b01ff0e069b9275f58929596ceb00d14d90e3e16cd6"
      }
    },
    "colab": {
      "provenance": [],
      "toc_visible": true
    }
  },
  "nbformat": 4,
  "nbformat_minor": 0
}